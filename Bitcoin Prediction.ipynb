{
 "cells": [
  {
   "cell_type": "markdown",
   "metadata": {
    "collapsed": true
   },
   "source": [
    "Link to medium post: https://medium.com/@zhiwei_zhang/bitcoin-time-series-prediction-with-lstm-d3f49b1b4d00"
   ]
  },
  {
   "cell_type": "code",
   "execution_count": 11,
   "metadata": {},
   "outputs": [],
   "source": [
    "import datetime\n",
    "import time\n",
    "import pandas as pd\n",
    "import numpy as np\n",
    "import matplotlib.pyplot as plt\n",
    "%matplotlib inline\n",
    "from sklearn.metrics import mean_squared_error\n",
    "from math import sqrt\n",
    "\n",
    "import keras\n",
    "from keras.models import Sequential\n",
    "from keras.layers import Activation, Dense\n",
    "from keras.layers import LSTM\n",
    "from keras.layers import Dropout"
   ]
  },
  {
   "cell_type": "markdown",
   "metadata": {},
   "source": [
    "###  Load data by reading table from html"
   ]
  },
  {
   "cell_type": "code",
   "execution_count": 12,
   "metadata": {},
   "outputs": [
    {
     "data": {
      "text/html": [
       "<div>\n",
       "<style scoped>\n",
       "    .dataframe tbody tr th:only-of-type {\n",
       "        vertical-align: middle;\n",
       "    }\n",
       "\n",
       "    .dataframe tbody tr th {\n",
       "        vertical-align: top;\n",
       "    }\n",
       "\n",
       "    .dataframe thead th {\n",
       "        text-align: right;\n",
       "    }\n",
       "</style>\n",
       "<table border=\"1\" class=\"dataframe\">\n",
       "  <thead>\n",
       "    <tr style=\"text-align: right;\">\n",
       "      <th></th>\n",
       "      <th>Date</th>\n",
       "      <th>Open</th>\n",
       "      <th>High</th>\n",
       "      <th>Low</th>\n",
       "      <th>Close</th>\n",
       "      <th>Volume</th>\n",
       "      <th>Market Cap</th>\n",
       "    </tr>\n",
       "  </thead>\n",
       "  <tbody>\n",
       "    <tr>\n",
       "      <th>0</th>\n",
       "      <td>2018-05-10</td>\n",
       "      <td>9325.96</td>\n",
       "      <td>9396.04</td>\n",
       "      <td>9040.52</td>\n",
       "      <td>9043.94</td>\n",
       "      <td>6.906700e+09</td>\n",
       "      <td>158772000000</td>\n",
       "    </tr>\n",
       "    <tr>\n",
       "      <th>1</th>\n",
       "      <td>2018-05-09</td>\n",
       "      <td>9223.73</td>\n",
       "      <td>9374.76</td>\n",
       "      <td>9031.62</td>\n",
       "      <td>9325.18</td>\n",
       "      <td>7.226890e+09</td>\n",
       "      <td>157013000000</td>\n",
       "    </tr>\n",
       "    <tr>\n",
       "      <th>2</th>\n",
       "      <td>2018-05-08</td>\n",
       "      <td>9380.87</td>\n",
       "      <td>9462.75</td>\n",
       "      <td>9127.77</td>\n",
       "      <td>9234.82</td>\n",
       "      <td>7.415870e+09</td>\n",
       "      <td>159672000000</td>\n",
       "    </tr>\n",
       "    <tr>\n",
       "      <th>3</th>\n",
       "      <td>2018-05-07</td>\n",
       "      <td>9645.67</td>\n",
       "      <td>9665.85</td>\n",
       "      <td>9231.53</td>\n",
       "      <td>9373.01</td>\n",
       "      <td>7.394020e+09</td>\n",
       "      <td>164161000000</td>\n",
       "    </tr>\n",
       "    <tr>\n",
       "      <th>4</th>\n",
       "      <td>2018-05-06</td>\n",
       "      <td>9845.31</td>\n",
       "      <td>9940.14</td>\n",
       "      <td>9465.25</td>\n",
       "      <td>9654.80</td>\n",
       "      <td>7.222280e+09</td>\n",
       "      <td>167541000000</td>\n",
       "    </tr>\n",
       "    <tr>\n",
       "      <th>5</th>\n",
       "      <td>2018-05-05</td>\n",
       "      <td>9700.28</td>\n",
       "      <td>9964.50</td>\n",
       "      <td>9695.12</td>\n",
       "      <td>9858.15</td>\n",
       "      <td>7.651940e+09</td>\n",
       "      <td>165055000000</td>\n",
       "    </tr>\n",
       "    <tr>\n",
       "      <th>6</th>\n",
       "      <td>2018-05-04</td>\n",
       "      <td>9695.50</td>\n",
       "      <td>9779.20</td>\n",
       "      <td>9585.96</td>\n",
       "      <td>9700.76</td>\n",
       "      <td>8.217830e+09</td>\n",
       "      <td>164956000000</td>\n",
       "    </tr>\n",
       "    <tr>\n",
       "      <th>7</th>\n",
       "      <td>2018-05-03</td>\n",
       "      <td>9233.97</td>\n",
       "      <td>9798.33</td>\n",
       "      <td>9188.15</td>\n",
       "      <td>9743.86</td>\n",
       "      <td>1.020730e+10</td>\n",
       "      <td>157087000000</td>\n",
       "    </tr>\n",
       "    <tr>\n",
       "      <th>8</th>\n",
       "      <td>2018-05-02</td>\n",
       "      <td>9104.60</td>\n",
       "      <td>9256.52</td>\n",
       "      <td>9015.14</td>\n",
       "      <td>9235.92</td>\n",
       "      <td>7.558160e+09</td>\n",
       "      <td>154869000000</td>\n",
       "    </tr>\n",
       "    <tr>\n",
       "      <th>9</th>\n",
       "      <td>2018-05-01</td>\n",
       "      <td>9251.47</td>\n",
       "      <td>9255.88</td>\n",
       "      <td>8891.05</td>\n",
       "      <td>9119.01</td>\n",
       "      <td>7.713020e+09</td>\n",
       "      <td>157350000000</td>\n",
       "    </tr>\n",
       "  </tbody>\n",
       "</table>\n",
       "</div>"
      ],
      "text/plain": [
       "        Date     Open     High      Low    Close        Volume    Market Cap\n",
       "0 2018-05-10  9325.96  9396.04  9040.52  9043.94  6.906700e+09  158772000000\n",
       "1 2018-05-09  9223.73  9374.76  9031.62  9325.18  7.226890e+09  157013000000\n",
       "2 2018-05-08  9380.87  9462.75  9127.77  9234.82  7.415870e+09  159672000000\n",
       "3 2018-05-07  9645.67  9665.85  9231.53  9373.01  7.394020e+09  164161000000\n",
       "4 2018-05-06  9845.31  9940.14  9465.25  9654.80  7.222280e+09  167541000000\n",
       "5 2018-05-05  9700.28  9964.50  9695.12  9858.15  7.651940e+09  165055000000\n",
       "6 2018-05-04  9695.50  9779.20  9585.96  9700.76  8.217830e+09  164956000000\n",
       "7 2018-05-03  9233.97  9798.33  9188.15  9743.86  1.020730e+10  157087000000\n",
       "8 2018-05-02  9104.60  9256.52  9015.14  9235.92  7.558160e+09  154869000000\n",
       "9 2018-05-01  9251.47  9255.88  8891.05  9119.01  7.713020e+09  157350000000"
      ]
     },
     "execution_count": 12,
     "metadata": {},
     "output_type": "execute_result"
    }
   ],
   "source": [
    "def get_market_data(market, tag=True):\n",
    "    market_data = pd.read_html(\"https://coinmarketcap.com/currencies/\" + market + \n",
    "                             \"/historical-data/?start=20130428&end=\"+time.strftime(\"%Y%m%d\"), flavor='html5lib')[0]\n",
    "    market_data = market_data.assign(Date=pd.to_datetime(market_data['Date']))  \n",
    "    market_data['Volume'] = (pd.to_numeric(market_data['Volume'], errors='coerce').fillna(0))\n",
    "    return market_data\n",
    "\n",
    "btc_data = get_market_data(\"bitcoin\", tag='BTC')\n",
    "btc_data.head(10)"
   ]
  },
  {
   "cell_type": "code",
   "execution_count": 4,
   "metadata": {
    "scrolled": true
   },
   "outputs": [
    {
     "data": {
      "text/html": [
       "<div>\n",
       "<style scoped>\n",
       "    .dataframe tbody tr th:only-of-type {\n",
       "        vertical-align: middle;\n",
       "    }\n",
       "\n",
       "    .dataframe tbody tr th {\n",
       "        vertical-align: top;\n",
       "    }\n",
       "\n",
       "    .dataframe thead th {\n",
       "        text-align: right;\n",
       "    }\n",
       "</style>\n",
       "<table border=\"1\" class=\"dataframe\">\n",
       "  <thead>\n",
       "    <tr style=\"text-align: right;\">\n",
       "      <th></th>\n",
       "      <th>Date</th>\n",
       "      <th>Close</th>\n",
       "    </tr>\n",
       "  </thead>\n",
       "  <tbody>\n",
       "    <tr>\n",
       "      <th>1838</th>\n",
       "      <td>2013-04-28</td>\n",
       "      <td>134.21</td>\n",
       "    </tr>\n",
       "    <tr>\n",
       "      <th>1837</th>\n",
       "      <td>2013-04-29</td>\n",
       "      <td>144.54</td>\n",
       "    </tr>\n",
       "    <tr>\n",
       "      <th>1836</th>\n",
       "      <td>2013-04-30</td>\n",
       "      <td>139.00</td>\n",
       "    </tr>\n",
       "    <tr>\n",
       "      <th>1835</th>\n",
       "      <td>2013-05-01</td>\n",
       "      <td>116.99</td>\n",
       "    </tr>\n",
       "    <tr>\n",
       "      <th>1834</th>\n",
       "      <td>2013-05-02</td>\n",
       "      <td>105.21</td>\n",
       "    </tr>\n",
       "  </tbody>\n",
       "</table>\n",
       "</div>"
      ],
      "text/plain": [
       "           Date   Close\n",
       "1838 2013-04-28  134.21\n",
       "1837 2013-04-29  144.54\n",
       "1836 2013-04-30  139.00\n",
       "1835 2013-05-01  116.99\n",
       "1834 2013-05-02  105.21"
      ]
     },
     "execution_count": 4,
     "metadata": {},
     "output_type": "execute_result"
    }
   ],
   "source": [
    "# only keeps date and close price\n",
    "data = btc_data[['Date']+['Close']]\n",
    "data = data.sort_values(by='Date')\n",
    "data.head()"
   ]
  },
  {
   "cell_type": "code",
   "execution_count": 5,
   "metadata": {},
   "outputs": [
    {
     "data": {
      "image/png": "[encoded data removed]",
      "text/plain": [
       "<matplotlib.figure.Figure at 0x1a1e96b470>"
      ]
     },
     "metadata": {},
     "output_type": "display_data"
    }
   ],
   "source": [
    "plt.plot(range(len(data['Close'])), data['Close'])\n",
    "plt.title('Close Price vs Time')\n",
    "plt.show()"
   ]
  },
  {
   "cell_type": "code",
   "execution_count": 6,
   "metadata": {},
   "outputs": [
    {
     "data": {
      "text/plain": [
       "array([[0.00338567],\n",
       "       [0.00391735],\n",
       "       [0.0036322 ],\n",
       "       ...,\n",
       "       [0.4717898 ],\n",
       "       [0.47644055],\n",
       "       [0.4619653 ]], dtype=float32)"
      ]
     },
     "execution_count": 6,
     "metadata": {},
     "output_type": "execute_result"
    }
   ],
   "source": [
    "# Normalize close price\n",
    "from sklearn.preprocessing import MinMaxScaler\n",
    "values = data['Close'].values.reshape(-1,1)\n",
    "values = values.astype('float32')\n",
    "scaler = MinMaxScaler(feature_range=(0, 1))\n",
    "scaled_price = scaler.fit_transform(values)\n",
    "scaled_price"
   ]
  },
  {
   "cell_type": "code",
   "execution_count": 7,
   "metadata": {},
   "outputs": [
    {
     "name": "stdout",
     "output_type": "stream",
     "text": [
      "1287 552\n"
     ]
    }
   ],
   "source": [
    "# split data for training, testing\n",
    "train_size = int(len(scaled_price) * 0.7)\n",
    "test_size = len(scaled_price) - train_size\n",
    "\n",
    "train, test = scaled_price[0:train_size,:], scaled_price[train_size:len(scaled_price),:]\n",
    "print(len(train), len(test))"
   ]
  },
  {
   "cell_type": "code",
   "execution_count": 8,
   "metadata": {},
   "outputs": [
    {
     "name": "stdout",
     "output_type": "stream",
     "text": [
      "x_train shape (1282, 5)\n",
      "x_test shape (547, 5)\n",
      "y_train shape (1282,)\n",
      "y_test shape (547,)\n"
     ]
    }
   ],
   "source": [
    "def create_input(data,lookback):\n",
    "    inputs = []\n",
    "    for i in range(len(data) - lookback):\n",
    "        temp_set = data[i:(i + lookback),0].copy()\n",
    "        inputs.append(temp_set)\n",
    "    return np.array(inputs)\n",
    "\n",
    "def create_output(data,lookback):\n",
    "    output = []\n",
    "    for i in range(len(data)-lookback):\n",
    "        output.append(data[i + lookback, 0])\n",
    "    return np.array(output)\n",
    "\n",
    "# use lookback = 5\n",
    "x_train = create_input(train,5)\n",
    "x_test = create_input(test,5)\n",
    "\n",
    "y_train = create_output(train,5)\n",
    "y_test = create_output(test,5)\n",
    "\n",
    "print('x_train shape', x_train.shape)\n",
    "print('x_test shape', x_test.shape)\n",
    "\n",
    "print('y_train shape', y_train.shape)\n",
    "print('y_test shape', y_test.shape)\n"
   ]
  },
  {
   "cell_type": "code",
   "execution_count": 9,
   "metadata": {},
   "outputs": [
    {
     "name": "stdout",
     "output_type": "stream",
     "text": [
      "x_input: [[0.00338567 0.00391735 0.0036322  0.00249936 0.00189305]\n",
      " [0.00391735 0.0036322  0.00249936 0.00189305 0.00150909]\n",
      " [0.0036322  0.00249936 0.00189305 0.00150909 0.00226826]\n",
      " [0.00249936 0.00189305 0.00150909 0.00226826 0.00244377]]\n",
      "y: [0.00150909 0.00226826 0.00244377]\n"
     ]
    }
   ],
   "source": [
    "print(\"x_input:\",x_train[0:4])\n",
    "print(\"y:\",y_train[0:3])"
   ]
  },
  {
   "cell_type": "code",
   "execution_count": 10,
   "metadata": {},
   "outputs": [
    {
     "name": "stdout",
     "output_type": "stream",
     "text": [
      "x_train shape (1282, 1, 5)\n",
      "x_test shape (547, 1, 5)\n"
     ]
    }
   ],
   "source": [
    "x_train = np.reshape(x_train,(x_train.shape[0],1,x_train.shape[1]))\n",
    "x_test = np.reshape(x_test,(x_test.shape[0],1,x_test.shape[1]))\n",
    "print('x_train shape', x_train.shape)\n",
    "print('x_test shape', x_test.shape)"
   ]
  },
  {
   "cell_type": "markdown",
   "metadata": {},
   "source": [
    "# Build Model"
   ]
  },
  {
   "cell_type": "code",
   "execution_count": 11,
   "metadata": {},
   "outputs": [
    {
     "name": "stdout",
     "output_type": "stream",
     "text": [
      "_________________________________________________________________\n",
      "Layer (type)                 Output Shape              Param #   \n",
      "=================================================================\n",
      "lstm_1 (LSTM)                (None, 100)               42400     \n",
      "_________________________________________________________________\n",
      "dense_1 (Dense)              (None, 1)                 101       \n",
      "=================================================================\n",
      "Total params: 42,501\n",
      "Trainable params: 42,501\n",
      "Non-trainable params: 0\n",
      "_________________________________________________________________\n"
     ]
    }
   ],
   "source": [
    "from keras.models import Sequential\n",
    "from keras.layers import Dense,LSTM,Dropout, Flatten,Conv2D, MaxPooling2D, Activation\n",
    "from keras.layers.normalization import BatchNormalization\n",
    "from keras import optimizers\n",
    "import keras\n",
    "\n",
    "model_1 = Sequential()\n",
    "model_1.add(LSTM(100, input_shape=(1,x_train.shape[2])))\n",
    "model_1.add(Dense(1))\n",
    "model_1.compile(loss='mae', optimizer='adam')\n",
    "model_1.summary()"
   ]
  },
  {
   "cell_type": "code",
   "execution_count": 12,
   "metadata": {},
   "outputs": [
    {
     "name": "stdout",
     "output_type": "stream",
     "text": [
      "Train on 1282 samples, validate on 547 samples\n",
      "Epoch 1/100\n",
      "1282/1282 [==============================] - 0s 214us/step - loss: 0.0085 - val_loss: 0.1989\n",
      "Epoch 2/100\n",
      "1282/1282 [==============================] - 0s 62us/step - loss: 0.0076 - val_loss: 0.1792\n",
      "Epoch 3/100\n",
      "1282/1282 [==============================] - 0s 60us/step - loss: 0.0068 - val_loss: 0.1576\n",
      "Epoch 4/100\n",
      "1282/1282 [==============================] - 0s 60us/step - loss: 0.0059 - val_loss: 0.1345\n",
      "Epoch 5/100\n",
      "1282/1282 [==============================] - 0s 58us/step - loss: 0.0053 - val_loss: 0.1125\n",
      "Epoch 6/100\n",
      "1282/1282 [==============================] - 0s 59us/step - loss: 0.0044 - val_loss: 0.0867\n",
      "Epoch 7/100\n",
      "1282/1282 [==============================] - 0s 63us/step - loss: 0.0037 - val_loss: 0.0621\n",
      "Epoch 8/100\n",
      "1282/1282 [==============================] - 0s 57us/step - loss: 0.0028 - val_loss: 0.0356\n",
      "Epoch 9/100\n",
      "1282/1282 [==============================] - 0s 54us/step - loss: 0.0021 - val_loss: 0.0205\n",
      "Epoch 10/100\n",
      "1282/1282 [==============================] - 0s 52us/step - loss: 0.0012 - val_loss: 0.0226\n",
      "Epoch 11/100\n",
      "1282/1282 [==============================] - 0s 56us/step - loss: 0.0011 - val_loss: 0.0225\n",
      "Epoch 12/100\n",
      "1282/1282 [==============================] - 0s 62us/step - loss: 0.0011 - val_loss: 0.0203\n",
      "Epoch 13/100\n",
      "1282/1282 [==============================] - 0s 59us/step - loss: 9.6990e-04 - val_loss: 0.0210\n",
      "Epoch 14/100\n",
      "1282/1282 [==============================] - 0s 56us/step - loss: 8.9105e-04 - val_loss: 0.0219\n",
      "Epoch 15/100\n",
      "1282/1282 [==============================] - 0s 58us/step - loss: 9.3532e-04 - val_loss: 0.0196\n",
      "Epoch 16/100\n",
      "1282/1282 [==============================] - 0s 61us/step - loss: 0.0010 - val_loss: 0.0196\n",
      "Epoch 17/100\n",
      "1282/1282 [==============================] - 0s 65us/step - loss: 9.7775e-04 - val_loss: 0.0207\n",
      "Epoch 18/100\n",
      "1282/1282 [==============================] - 0s 64us/step - loss: 8.9950e-04 - val_loss: 0.0196\n",
      "Epoch 19/100\n",
      "1282/1282 [==============================] - 0s 65us/step - loss: 0.0010 - val_loss: 0.0197\n",
      "Epoch 20/100\n",
      "1282/1282 [==============================] - 0s 63us/step - loss: 9.8741e-04 - val_loss: 0.0209\n",
      "Epoch 21/100\n",
      "1282/1282 [==============================] - 0s 59us/step - loss: 8.4581e-04 - val_loss: 0.0195\n",
      "Epoch 22/100\n",
      "1282/1282 [==============================] - 0s 60us/step - loss: 0.0012 - val_loss: 0.0189\n",
      "Epoch 23/100\n",
      "1282/1282 [==============================] - 0s 61us/step - loss: 9.7200e-04 - val_loss: 0.0200\n",
      "Epoch 24/100\n",
      "1282/1282 [==============================] - 0s 56us/step - loss: 9.2332e-04 - val_loss: 0.0213\n",
      "Epoch 25/100\n",
      "1282/1282 [==============================] - 0s 63us/step - loss: 9.2462e-04 - val_loss: 0.0191\n",
      "Epoch 26/100\n",
      "1282/1282 [==============================] - 0s 64us/step - loss: 0.0011 - val_loss: 0.0188\n",
      "Epoch 27/100\n",
      "1282/1282 [==============================] - 0s 59us/step - loss: 9.6915e-04 - val_loss: 0.0199\n",
      "Epoch 28/100\n",
      "1282/1282 [==============================] - 0s 65us/step - loss: 8.6772e-04 - val_loss: 0.0195\n",
      "Epoch 29/100\n",
      "1282/1282 [==============================] - 0s 56us/step - loss: 0.0010 - val_loss: 0.0191\n",
      "Epoch 30/100\n",
      "1282/1282 [==============================] - 0s 59us/step - loss: 9.3400e-04 - val_loss: 0.0196\n",
      "Epoch 31/100\n",
      "1282/1282 [==============================] - 0s 62us/step - loss: 0.0012 - val_loss: 0.0192\n",
      "Epoch 32/100\n",
      "1282/1282 [==============================] - 0s 65us/step - loss: 8.5692e-04 - val_loss: 0.0194\n",
      "Epoch 33/100\n",
      "1282/1282 [==============================] - 0s 62us/step - loss: 9.1611e-04 - val_loss: 0.0185\n",
      "Epoch 34/100\n",
      "1282/1282 [==============================] - 0s 61us/step - loss: 0.0010 - val_loss: 0.0186\n",
      "Epoch 35/100\n",
      "1282/1282 [==============================] - 0s 63us/step - loss: 9.9074e-04 - val_loss: 0.0196\n",
      "Epoch 36/100\n",
      "1282/1282 [==============================] - 0s 65us/step - loss: 8.3574e-04 - val_loss: 0.0188\n",
      "Epoch 37/100\n",
      "1282/1282 [==============================] - 0s 65us/step - loss: 0.0013 - val_loss: 0.0183\n",
      "Epoch 38/100\n",
      "1282/1282 [==============================] - 0s 66us/step - loss: 9.8336e-04 - val_loss: 0.0187\n",
      "Epoch 39/100\n",
      "1282/1282 [==============================] - 0s 64us/step - loss: 0.0012 - val_loss: 0.0184\n",
      "Epoch 40/100\n",
      "1282/1282 [==============================] - 0s 64us/step - loss: 9.7147e-04 - val_loss: 0.0191\n",
      "Epoch 41/100\n",
      "1282/1282 [==============================] - 0s 65us/step - loss: 8.7031e-04 - val_loss: 0.0198\n",
      "Epoch 42/100\n",
      "1282/1282 [==============================] - 0s 65us/step - loss: 9.2639e-04 - val_loss: 0.0184\n",
      "Epoch 43/100\n",
      "1282/1282 [==============================] - 0s 61us/step - loss: 0.0012 - val_loss: 0.0182\n",
      "Epoch 44/100\n",
      "1282/1282 [==============================] - 0s 64us/step - loss: 9.7266e-04 - val_loss: 0.0190\n",
      "Epoch 45/100\n",
      "1282/1282 [==============================] - 0s 65us/step - loss: 8.2360e-04 - val_loss: 0.0186\n",
      "Epoch 46/100\n",
      "1282/1282 [==============================] - 0s 64us/step - loss: 0.0013 - val_loss: 0.0182\n",
      "Epoch 47/100\n",
      "1282/1282 [==============================] - 0s 64us/step - loss: 9.9816e-04 - val_loss: 0.0187\n",
      "Epoch 48/100\n",
      "1282/1282 [==============================] - 0s 63us/step - loss: 8.8583e-04 - val_loss: 0.0194\n",
      "Epoch 49/100\n",
      "1282/1282 [==============================] - 0s 65us/step - loss: 0.0014 - val_loss: 0.0191\n",
      "Epoch 50/100\n",
      "1282/1282 [==============================] - 0s 65us/step - loss: 0.0011 - val_loss: 0.0184\n",
      "Epoch 51/100\n",
      "1282/1282 [==============================] - 0s 63us/step - loss: 9.1139e-04 - val_loss: 0.0186\n",
      "Epoch 52/100\n",
      "1282/1282 [==============================] - 0s 61us/step - loss: 0.0013 - val_loss: 0.0182\n",
      "Epoch 53/100\n",
      "1282/1282 [==============================] - 0s 66us/step - loss: 8.4521e-04 - val_loss: 0.0184\n",
      "Epoch 54/100\n",
      "1282/1282 [==============================] - 0s 56us/step - loss: 8.8088e-04 - val_loss: 0.0179\n",
      "Epoch 55/100\n",
      "1282/1282 [==============================] - 0s 57us/step - loss: 0.0011 - val_loss: 0.0178\n",
      "Epoch 56/100\n",
      "1282/1282 [==============================] - 0s 56us/step - loss: 9.2670e-04 - val_loss: 0.0185\n",
      "Epoch 57/100\n",
      "1282/1282 [==============================] - 0s 62us/step - loss: 9.8444e-04 - val_loss: 0.0178\n",
      "Epoch 58/100\n",
      "1282/1282 [==============================] - 0s 60us/step - loss: 9.4598e-04 - val_loss: 0.0180\n",
      "Epoch 59/100\n",
      "1282/1282 [==============================] - 0s 58us/step - loss: 8.8489e-04 - val_loss: 0.0184\n",
      "Epoch 60/100\n",
      "1282/1282 [==============================] - 0s 61us/step - loss: 8.6227e-04 - val_loss: 0.0183\n",
      "Epoch 61/100\n",
      "1282/1282 [==============================] - 0s 63us/step - loss: 0.0012 - val_loss: 0.0180\n",
      "Epoch 62/100\n",
      "1282/1282 [==============================] - 0s 59us/step - loss: 0.0010 - val_loss: 0.0177\n",
      "Epoch 63/100\n",
      "1282/1282 [==============================] - 0s 65us/step - loss: 8.9096e-04 - val_loss: 0.0185\n",
      "Epoch 64/100\n",
      "1282/1282 [==============================] - 0s 61us/step - loss: 9.3342e-04 - val_loss: 0.0177\n",
      "Epoch 65/100\n",
      "1282/1282 [==============================] - 0s 60us/step - loss: 0.0011 - val_loss: 0.0175\n",
      "Epoch 66/100\n",
      "1282/1282 [==============================] - 0s 59us/step - loss: 9.1700e-04 - val_loss: 0.0176\n",
      "Epoch 67/100\n",
      "1282/1282 [==============================] - 0s 61us/step - loss: 8.6302e-04 - val_loss: 0.0175\n",
      "Epoch 68/100\n",
      "1282/1282 [==============================] - 0s 61us/step - loss: 0.0011 - val_loss: 0.0174\n",
      "Epoch 69/100\n",
      "1282/1282 [==============================] - 0s 60us/step - loss: 9.2779e-04 - val_loss: 0.0177\n",
      "Epoch 70/100\n",
      "1282/1282 [==============================] - 0s 61us/step - loss: 8.3365e-04 - val_loss: 0.0180\n",
      "Epoch 71/100\n",
      "1282/1282 [==============================] - 0s 62us/step - loss: 0.0013 - val_loss: 0.0182\n",
      "Epoch 72/100\n",
      "1282/1282 [==============================] - 0s 59us/step - loss: 9.6120e-04 - val_loss: 0.0178\n",
      "Epoch 73/100\n",
      "1282/1282 [==============================] - 0s 57us/step - loss: 0.0011 - val_loss: 0.0174\n",
      "Epoch 74/100\n",
      "1282/1282 [==============================] - 0s 57us/step - loss: 9.1619e-04 - val_loss: 0.0175\n",
      "Epoch 75/100\n",
      "1282/1282 [==============================] - 0s 59us/step - loss: 8.2088e-04 - val_loss: 0.0179\n",
      "Epoch 76/100\n",
      "1282/1282 [==============================] - 0s 55us/step - loss: 0.0013 - val_loss: 0.0181\n",
      "Epoch 77/100\n"
     ]
    },
    {
     "name": "stdout",
     "output_type": "stream",
     "text": [
      "1282/1282 [==============================] - 0s 58us/step - loss: 9.2075e-04 - val_loss: 0.0175\n",
      "Epoch 78/100\n",
      "1282/1282 [==============================] - 0s 54us/step - loss: 0.0011 - val_loss: 0.0172\n",
      "Epoch 79/100\n",
      "1282/1282 [==============================] - 0s 54us/step - loss: 8.7826e-04 - val_loss: 0.0173\n",
      "Epoch 80/100\n",
      "1282/1282 [==============================] - 0s 58us/step - loss: 8.5038e-04 - val_loss: 0.0176\n",
      "Epoch 81/100\n",
      "1282/1282 [==============================] - 0s 57us/step - loss: 0.0011 - val_loss: 0.0173\n",
      "Epoch 82/100\n",
      "1282/1282 [==============================] - 0s 53us/step - loss: 9.5831e-04 - val_loss: 0.0172\n",
      "Epoch 83/100\n",
      "1282/1282 [==============================] - 0s 56us/step - loss: 7.9187e-04 - val_loss: 0.0173\n",
      "Epoch 84/100\n",
      "1282/1282 [==============================] - 0s 59us/step - loss: 0.0012 - val_loss: 0.0172\n",
      "Epoch 85/100\n",
      "1282/1282 [==============================] - 0s 58us/step - loss: 9.1169e-04 - val_loss: 0.0169\n",
      "Epoch 86/100\n",
      "1282/1282 [==============================] - 0s 61us/step - loss: 8.3942e-04 - val_loss: 0.0173\n",
      "Epoch 87/100\n",
      "1282/1282 [==============================] - 0s 58us/step - loss: 0.0010 - val_loss: 0.0168\n",
      "Epoch 88/100\n",
      "1282/1282 [==============================] - 0s 62us/step - loss: 8.9363e-04 - val_loss: 0.0172\n",
      "Epoch 89/100\n",
      "1282/1282 [==============================] - 0s 60us/step - loss: 0.0012 - val_loss: 0.0169\n",
      "Epoch 90/100\n",
      "1282/1282 [==============================] - 0s 55us/step - loss: 8.2157e-04 - val_loss: 0.0169\n",
      "Epoch 91/100\n",
      "1282/1282 [==============================] - 0s 49us/step - loss: 8.9206e-04 - val_loss: 0.0174\n",
      "Epoch 92/100\n",
      "1282/1282 [==============================] - 0s 56us/step - loss: 0.0010 - val_loss: 0.0171\n",
      "Epoch 93/100\n",
      "1282/1282 [==============================] - 0s 60us/step - loss: 9.1962e-04 - val_loss: 0.0168\n",
      "Epoch 94/100\n",
      "1282/1282 [==============================] - 0s 56us/step - loss: 8.2851e-04 - val_loss: 0.0182\n",
      "Epoch 95/100\n",
      "1282/1282 [==============================] - 0s 57us/step - loss: 0.0012 - val_loss: 0.0179\n",
      "Epoch 96/100\n",
      "1282/1282 [==============================] - 0s 51us/step - loss: 9.5710e-04 - val_loss: 0.0167\n",
      "Epoch 97/100\n",
      "1282/1282 [==============================] - 0s 56us/step - loss: 8.4580e-04 - val_loss: 0.0168\n",
      "Epoch 98/100\n",
      "1282/1282 [==============================] - 0s 67us/step - loss: 9.0620e-04 - val_loss: 0.0174\n",
      "Epoch 99/100\n",
      "1282/1282 [==============================] - 0s 64us/step - loss: 0.0011 - val_loss: 0.0171\n",
      "Epoch 100/100\n",
      "1282/1282 [==============================] - 0s 62us/step - loss: 9.0678e-04 - val_loss: 0.0166\n"
     ]
    }
   ],
   "source": [
    "history = model_1.fit(x_train, y_train, epochs=100, batch_size=128, \n",
    "                    validation_data=(x_test, y_test), verbose=1, shuffle=False)"
   ]
  },
  {
   "cell_type": "code",
   "execution_count": 13,
   "metadata": {},
   "outputs": [
    {
     "data": {
      "image/png": "[encoded data removed]",
      "text/plain": [
       "<matplotlib.figure.Figure at 0x1a1d4f3ac8>"
      ]
     },
     "metadata": {},
     "output_type": "display_data"
    }
   ],
   "source": [
    "loss = history.history['loss']\n",
    "val_loss = history.history['val_loss']\n",
    "\n",
    "epochs = range(len(loss))\n",
    "\n",
    "plt.figure()\n",
    "\n",
    "plt.plot(epochs, loss, 'bo', label='Training loss')\n",
    "plt.plot(epochs, val_loss, 'b', label='Validation loss')\n",
    "plt.title('Training and validation loss')\n",
    "plt.legend()\n",
    "\n",
    "plt.show()"
   ]
  },
  {
   "cell_type": "code",
   "execution_count": 14,
   "metadata": {},
   "outputs": [
    {
     "data": {
      "image/png": "[encoded data removed]",
      "text/plain": [
       "<matplotlib.figure.Figure at 0x1a1d502c18>"
      ]
     },
     "metadata": {},
     "output_type": "display_data"
    }
   ],
   "source": [
    "yhat = model_1.predict(x_test)\n",
    "plt.plot(yhat, label='predict')\n",
    "plt.plot(y_test, label='true')\n",
    "plt.legend()\n",
    "plt.show()"
   ]
  },
  {
   "cell_type": "code",
   "execution_count": 15,
   "metadata": {},
   "outputs": [
    {
     "name": "stdout",
     "output_type": "stream",
     "text": [
      "Test RMSE: 614.719\n"
     ]
    }
   ],
   "source": [
    "yhat_inverse = scaler.inverse_transform(yhat.reshape(-1, 1))\n",
    "testY_inverse = scaler.inverse_transform(y_test.reshape(-1, 1))\n",
    "rmse = sqrt(mean_squared_error(testY_inverse, yhat_inverse))\n",
    "print('Test RMSE: %.3f' % rmse)"
   ]
  },
  {
   "cell_type": "markdown",
   "metadata": {},
   "source": [
    "### Add a dropout layer"
   ]
  },
  {
   "cell_type": "code",
   "execution_count": 25,
   "metadata": {
    "collapsed": true
   },
   "outputs": [],
   "source": [
    "from keras import backend as K\n",
    "K.clear_session()"
   ]
  },
  {
   "cell_type": "code",
   "execution_count": 50,
   "metadata": {},
   "outputs": [
    {
     "name": "stdout",
     "output_type": "stream",
     "text": [
      "_________________________________________________________________\n",
      "Layer (type)                 Output Shape              Param #   \n",
      "=================================================================\n",
      "lstm_5 (LSTM)                (None, 100)               42400     \n",
      "_________________________________________________________________\n",
      "dropout_5 (Dropout)          (None, 100)               0         \n",
      "_________________________________________________________________\n",
      "dense_5 (Dense)              (None, 1)                 101       \n",
      "=================================================================\n",
      "Total params: 42,501\n",
      "Trainable params: 42,501\n",
      "Non-trainable params: 0\n",
      "_________________________________________________________________\n"
     ]
    }
   ],
   "source": [
    "model_2 = Sequential()\n",
    "model_2.add(LSTM(100, input_shape=(1, x_train.shape[2])))\n",
    "model_2.add(Dropout(0.2))\n",
    "model_2.add(Dense(1))\n",
    "model_2.compile(loss='mae', optimizer='adam')\n",
    "model_2.summary()"
   ]
  },
  {
   "cell_type": "code",
   "execution_count": 51,
   "metadata": {},
   "outputs": [
    {
     "name": "stdout",
     "output_type": "stream",
     "text": [
      "Train on 1282 samples, validate on 547 samples\n",
      "Epoch 1/100\n",
      "1282/1282 [==============================] - 0s 328us/step - loss: 0.0088 - val_loss: 0.2086\n",
      "Epoch 2/100\n",
      "1282/1282 [==============================] - 0s 62us/step - loss: 0.0082 - val_loss: 0.1900\n",
      "Epoch 3/100\n",
      "1282/1282 [==============================] - 0s 61us/step - loss: 0.0071 - val_loss: 0.1664\n",
      "Epoch 4/100\n",
      "1282/1282 [==============================] - 0s 64us/step - loss: 0.0064 - val_loss: 0.1434\n",
      "Epoch 5/100\n",
      "1282/1282 [==============================] - 0s 59us/step - loss: 0.0055 - val_loss: 0.1199\n",
      "Epoch 6/100\n",
      "1282/1282 [==============================] - 0s 64us/step - loss: 0.0047 - val_loss: 0.0949\n",
      "Epoch 7/100\n",
      "1282/1282 [==============================] - 0s 64us/step - loss: 0.0039 - val_loss: 0.0682\n",
      "Epoch 8/100\n",
      "1282/1282 [==============================] - 0s 58us/step - loss: 0.0032 - val_loss: 0.0437\n",
      "Epoch 9/100\n",
      "1282/1282 [==============================] - 0s 58us/step - loss: 0.0022 - val_loss: 0.0227\n",
      "Epoch 10/100\n",
      "1282/1282 [==============================] - 0s 59us/step - loss: 0.0016 - val_loss: 0.0211\n",
      "Epoch 11/100\n",
      "1282/1282 [==============================] - 0s 65us/step - loss: 0.0013 - val_loss: 0.0223\n",
      "Epoch 12/100\n",
      "1282/1282 [==============================] - 0s 60us/step - loss: 0.0013 - val_loss: 0.0226\n",
      "Epoch 13/100\n",
      "1282/1282 [==============================] - 0s 57us/step - loss: 0.0014 - val_loss: 0.0214\n",
      "Epoch 14/100\n",
      "1282/1282 [==============================] - 0s 65us/step - loss: 0.0013 - val_loss: 0.0196\n",
      "Epoch 15/100\n",
      "1282/1282 [==============================] - 0s 62us/step - loss: 0.0013 - val_loss: 0.0199\n",
      "Epoch 16/100\n",
      "1282/1282 [==============================] - 0s 59us/step - loss: 0.0013 - val_loss: 0.0198\n",
      "Epoch 17/100\n",
      "1282/1282 [==============================] - 0s 65us/step - loss: 0.0012 - val_loss: 0.0195\n",
      "Epoch 18/100\n",
      "1282/1282 [==============================] - 0s 58us/step - loss: 0.0013 - val_loss: 0.0205\n",
      "Epoch 19/100\n",
      "1282/1282 [==============================] - 0s 64us/step - loss: 0.0012 - val_loss: 0.0216\n",
      "Epoch 20/100\n",
      "1282/1282 [==============================] - 0s 61us/step - loss: 0.0013 - val_loss: 0.0217\n",
      "Epoch 21/100\n",
      "1282/1282 [==============================] - 0s 57us/step - loss: 0.0012 - val_loss: 0.0194\n",
      "Epoch 22/100\n",
      "1282/1282 [==============================] - 0s 63us/step - loss: 0.0012 - val_loss: 0.0202\n",
      "Epoch 23/100\n",
      "1282/1282 [==============================] - 0s 61us/step - loss: 0.0012 - val_loss: 0.0207\n",
      "Epoch 24/100\n",
      "1282/1282 [==============================] - 0s 57us/step - loss: 0.0012 - val_loss: 0.0198\n",
      "Epoch 25/100\n",
      "1282/1282 [==============================] - 0s 62us/step - loss: 0.0013 - val_loss: 0.0191\n",
      "Epoch 26/100\n",
      "1282/1282 [==============================] - 0s 61us/step - loss: 0.0012 - val_loss: 0.0195\n",
      "Epoch 27/100\n",
      "1282/1282 [==============================] - 0s 55us/step - loss: 0.0012 - val_loss: 0.0195\n",
      "Epoch 28/100\n",
      "1282/1282 [==============================] - 0s 58us/step - loss: 0.0014 - val_loss: 0.0196\n",
      "Epoch 29/100\n",
      "1282/1282 [==============================] - 0s 61us/step - loss: 0.0013 - val_loss: 0.0188\n",
      "Epoch 30/100\n",
      "1282/1282 [==============================] - 0s 63us/step - loss: 0.0012 - val_loss: 0.0192\n",
      "Epoch 31/100\n",
      "1282/1282 [==============================] - 0s 65us/step - loss: 0.0014 - val_loss: 0.0189\n",
      "Epoch 32/100\n",
      "1282/1282 [==============================] - 0s 79us/step - loss: 0.0015 - val_loss: 0.0198\n",
      "Epoch 33/100\n",
      "1282/1282 [==============================] - 0s 78us/step - loss: 0.0013 - val_loss: 0.0192\n",
      "Epoch 34/100\n",
      "1282/1282 [==============================] - 0s 79us/step - loss: 0.0012 - val_loss: 0.0190\n",
      "Epoch 35/100\n",
      "1282/1282 [==============================] - 0s 67us/step - loss: 0.0013 - val_loss: 0.0189\n",
      "Epoch 36/100\n",
      "1282/1282 [==============================] - 0s 71us/step - loss: 0.0014 - val_loss: 0.0187\n",
      "Epoch 37/100\n",
      "1282/1282 [==============================] - 0s 66us/step - loss: 0.0011 - val_loss: 0.0192\n",
      "Epoch 38/100\n",
      "1282/1282 [==============================] - 0s 65us/step - loss: 0.0011 - val_loss: 0.0191\n",
      "Epoch 39/100\n",
      "1282/1282 [==============================] - 0s 69us/step - loss: 0.0014 - val_loss: 0.0188\n",
      "Epoch 40/100\n",
      "1282/1282 [==============================] - 0s 77us/step - loss: 0.0012 - val_loss: 0.0185\n",
      "Epoch 41/100\n",
      "1282/1282 [==============================] - 0s 73us/step - loss: 0.0014 - val_loss: 0.0187\n",
      "Epoch 42/100\n",
      "1282/1282 [==============================] - 0s 67us/step - loss: 0.0012 - val_loss: 0.0187\n",
      "Epoch 43/100\n",
      "1282/1282 [==============================] - 0s 68us/step - loss: 0.0010 - val_loss: 0.0187\n",
      "Epoch 44/100\n",
      "1282/1282 [==============================] - 0s 65us/step - loss: 0.0011 - val_loss: 0.0190\n",
      "Epoch 45/100\n",
      "1282/1282 [==============================] - 0s 68us/step - loss: 0.0012 - val_loss: 0.0183\n",
      "Epoch 46/100\n",
      "1282/1282 [==============================] - 0s 69us/step - loss: 0.0013 - val_loss: 0.0185\n",
      "Epoch 47/100\n",
      "1282/1282 [==============================] - 0s 67us/step - loss: 0.0014 - val_loss: 0.0182\n",
      "Epoch 48/100\n",
      "1282/1282 [==============================] - 0s 63us/step - loss: 0.0011 - val_loss: 0.0186\n",
      "Epoch 49/100\n",
      "1282/1282 [==============================] - 0s 69us/step - loss: 0.0013 - val_loss: 0.0180\n",
      "Epoch 50/100\n",
      "1282/1282 [==============================] - 0s 65us/step - loss: 0.0014 - val_loss: 0.0182\n",
      "Epoch 51/100\n",
      "1282/1282 [==============================] - 0s 59us/step - loss: 0.0014 - val_loss: 0.0181\n",
      "Epoch 52/100\n",
      "1282/1282 [==============================] - 0s 64us/step - loss: 0.0011 - val_loss: 0.0184\n",
      "Epoch 53/100\n",
      "1282/1282 [==============================] - 0s 65us/step - loss: 0.0011 - val_loss: 0.0179\n",
      "Epoch 54/100\n",
      "1282/1282 [==============================] - 0s 58us/step - loss: 0.0012 - val_loss: 0.0183\n",
      "Epoch 55/100\n",
      "1282/1282 [==============================] - 0s 57us/step - loss: 0.0014 - val_loss: 0.0185\n",
      "Epoch 56/100\n",
      "1282/1282 [==============================] - 0s 64us/step - loss: 0.0012 - val_loss: 0.0180\n",
      "Epoch 57/100\n",
      "1282/1282 [==============================] - 0s 58us/step - loss: 0.0011 - val_loss: 0.0181\n",
      "Epoch 58/100\n",
      "1282/1282 [==============================] - 0s 61us/step - loss: 0.0010 - val_loss: 0.0179\n",
      "Epoch 59/100\n",
      "1282/1282 [==============================] - 0s 67us/step - loss: 0.0012 - val_loss: 0.0179\n",
      "Epoch 60/100\n",
      "1282/1282 [==============================] - 0s 58us/step - loss: 0.0011 - val_loss: 0.0177\n",
      "Epoch 61/100\n",
      "1282/1282 [==============================] - 0s 62us/step - loss: 0.0017 - val_loss: 0.0182\n",
      "Epoch 62/100\n",
      "1282/1282 [==============================] - 0s 60us/step - loss: 0.0011 - val_loss: 0.0178\n",
      "Epoch 63/100\n",
      "1282/1282 [==============================] - 0s 63us/step - loss: 0.0011 - val_loss: 0.0179\n",
      "Epoch 64/100\n",
      "1282/1282 [==============================] - 0s 60us/step - loss: 0.0012 - val_loss: 0.0174\n",
      "Epoch 65/100\n",
      "1282/1282 [==============================] - 0s 60us/step - loss: 0.0012 - val_loss: 0.0177\n",
      "Epoch 66/100\n",
      "1282/1282 [==============================] - 0s 63us/step - loss: 0.0013 - val_loss: 0.0173\n",
      "Epoch 67/100\n",
      "1282/1282 [==============================] - 0s 65us/step - loss: 0.0015 - val_loss: 0.0173\n",
      "Epoch 68/100\n",
      "1282/1282 [==============================] - 0s 63us/step - loss: 0.0012 - val_loss: 0.0178\n",
      "Epoch 69/100\n",
      "1282/1282 [==============================] - 0s 81us/step - loss: 0.0012 - val_loss: 0.0172\n",
      "Epoch 70/100\n",
      "1282/1282 [==============================] - 0s 79us/step - loss: 0.0012 - val_loss: 0.0178\n",
      "Epoch 71/100\n",
      "1282/1282 [==============================] - 0s 70us/step - loss: 0.0015 - val_loss: 0.0184\n",
      "Epoch 72/100\n",
      "1282/1282 [==============================] - 0s 67us/step - loss: 0.0010 - val_loss: 0.0175\n",
      "Epoch 73/100\n",
      "1282/1282 [==============================] - 0s 73us/step - loss: 0.0011 - val_loss: 0.0175\n",
      "Epoch 74/100\n",
      "1282/1282 [==============================] - 0s 68us/step - loss: 0.0011 - val_loss: 0.0174\n",
      "Epoch 75/100\n",
      "1282/1282 [==============================] - 0s 82us/step - loss: 0.0010 - val_loss: 0.0172\n",
      "Epoch 76/100\n",
      "1282/1282 [==============================] - 0s 69us/step - loss: 0.0011 - val_loss: 0.0174\n",
      "Epoch 77/100\n",
      "1282/1282 [==============================] - 0s 71us/step - loss: 0.0010 - val_loss: 0.0177\n",
      "Epoch 78/100\n",
      "1282/1282 [==============================] - 0s 66us/step - loss: 0.0011 - val_loss: 0.0174\n",
      "Epoch 79/100\n",
      "1282/1282 [==============================] - 0s 64us/step - loss: 0.0011 - val_loss: 0.0169\n",
      "Epoch 80/100\n",
      "1282/1282 [==============================] - 0s 63us/step - loss: 0.0014 - val_loss: 0.0170\n",
      "Epoch 81/100\n",
      "1282/1282 [==============================] - 0s 79us/step - loss: 0.0012 - val_loss: 0.0174\n",
      "Epoch 82/100\n",
      "1282/1282 [==============================] - 0s 68us/step - loss: 0.0011 - val_loss: 0.0173\n",
      "Epoch 83/100\n",
      "1282/1282 [==============================] - 0s 70us/step - loss: 0.0010 - val_loss: 0.0174\n",
      "Epoch 84/100\n",
      "1282/1282 [==============================] - 0s 60us/step - loss: 0.0011 - val_loss: 0.0178\n",
      "Epoch 85/100\n",
      "1282/1282 [==============================] - 0s 62us/step - loss: 0.0011 - val_loss: 0.0178\n",
      "Epoch 86/100\n",
      "1282/1282 [==============================] - 0s 62us/step - loss: 9.9952e-04 - val_loss: 0.0169\n",
      "Epoch 87/100\n",
      "1282/1282 [==============================] - 0s 65us/step - loss: 9.9861e-04 - val_loss: 0.0172\n",
      "Epoch 88/100\n",
      "1282/1282 [==============================] - 0s 60us/step - loss: 0.0013 - val_loss: 0.0179\n",
      "Epoch 89/100\n",
      "1282/1282 [==============================] - 0s 63us/step - loss: 0.0010 - val_loss: 0.0171\n",
      "Epoch 90/100\n",
      "1282/1282 [==============================] - 0s 66us/step - loss: 0.0011 - val_loss: 0.0176\n",
      "Epoch 91/100\n",
      "1282/1282 [==============================] - 0s 68us/step - loss: 0.0013 - val_loss: 0.0177\n",
      "Epoch 92/100\n",
      "1282/1282 [==============================] - 0s 64us/step - loss: 0.0011 - val_loss: 0.0172\n",
      "Epoch 93/100\n",
      "1282/1282 [==============================] - 0s 66us/step - loss: 0.0010 - val_loss: 0.0174\n",
      "Epoch 94/100\n",
      "1282/1282 [==============================] - 0s 79us/step - loss: 9.9990e-04 - val_loss: 0.0183\n",
      "Epoch 95/100\n",
      "1282/1282 [==============================] - 0s 77us/step - loss: 0.0011 - val_loss: 0.0175\n",
      "Epoch 96/100\n",
      "1282/1282 [==============================] - 0s 62us/step - loss: 0.0012 - val_loss: 0.0180\n",
      "Epoch 97/100\n",
      "1282/1282 [==============================] - 0s 64us/step - loss: 0.0014 - val_loss: 0.0197\n",
      "Epoch 98/100\n",
      "1282/1282 [==============================] - 0s 73us/step - loss: 0.0011 - val_loss: 0.0177\n",
      "Epoch 99/100\n",
      "1282/1282 [==============================] - 0s 70us/step - loss: 0.0010 - val_loss: 0.0172\n",
      "Epoch 100/100\n",
      "1282/1282 [==============================] - 0s 66us/step - loss: 0.0011 - val_loss: 0.0170\n"
     ]
    }
   ],
   "source": [
    "model_2.compile(loss='mae', optimizer='adam')\n",
    "history = model_2.fit(x_train, y_train, epochs=100, batch_size=128, \n",
    "                    validation_data=(x_test, y_test), verbose=1, shuffle=False)"
   ]
  },
  {
   "cell_type": "code",
   "execution_count": 28,
   "metadata": {},
   "outputs": [
    {
     "data": {
      "image/png": "[encoded data removed]",
      "text/plain": [
       "<matplotlib.figure.Figure at 0x1a2411dcc0>"
      ]
     },
     "metadata": {},
     "output_type": "display_data"
    }
   ],
   "source": [
    "loss = history.history['loss']\n",
    "val_loss = history.history['val_loss']\n",
    "\n",
    "epochs = range(len(loss))\n",
    "\n",
    "plt.figure()\n",
    "\n",
    "plt.plot(epochs, loss, 'bo', label='Training loss')\n",
    "plt.plot(epochs, val_loss, 'b', label='Validation loss')\n",
    "plt.title('Training and validation loss')\n",
    "plt.legend()\n",
    "\n",
    "plt.show()"
   ]
  },
  {
   "cell_type": "code",
   "execution_count": 29,
   "metadata": {},
   "outputs": [
    {
     "data": {
      "image/png": "[encoded data removed]",
      "text/plain": [
       "<matplotlib.figure.Figure at 0x1a238713c8>"
      ]
     },
     "metadata": {},
     "output_type": "display_data"
    }
   ],
   "source": [
    "yhat = model_2.predict(x_test)\n",
    "plt.plot(yhat, label='predict')\n",
    "plt.plot(y_test, label='true')\n",
    "plt.legend()\n",
    "plt.show()"
   ]
  },
  {
   "cell_type": "code",
   "execution_count": 30,
   "metadata": {},
   "outputs": [
    {
     "name": "stdout",
     "output_type": "stream",
     "text": [
      "Test RMSE: 604.806\n"
     ]
    }
   ],
   "source": [
    "yhat_inverse = scaler.inverse_transform(yhat.reshape(-1, 1))\n",
    "testY_inverse = scaler.inverse_transform(y_test.reshape(-1, 1))\n",
    "rmse = sqrt(mean_squared_error(testY_inverse, yhat_inverse))\n",
    "print('Test RMSE: %.3f' % rmse)"
   ]
  }
 ],
 "metadata": {
  "kernelspec": {
   "display_name": "Python 3",
   "language": "python",
   "name": "python3"
  },
  "language_info": {
   "codemirror_mode": {
    "name": "ipython",
    "version": 3
   },
   "file_extension": ".py",
   "mimetype": "text/x-python",
   "name": "python",
   "nbconvert_exporter": "python",
   "pygments_lexer": "ipython3",
   "version": "3.6.1"
  }
 },
 "nbformat": 4,
 "nbformat_minor": 2
}
