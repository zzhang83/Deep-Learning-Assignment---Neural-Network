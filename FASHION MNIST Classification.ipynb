{
 "cells": [
  {
   "cell_type": "markdown",
   "metadata": {},
   "source": [
    "link to medium post: https://medium.com/@zhiwei_zhang/fashion-mnist-with-keras-ed1e7b0ac8d2"
   ]
  },
  {
   "cell_type": "code",
   "execution_count": 36,
   "metadata": {
    "collapsed": true
   },
   "outputs": [],
   "source": [
    "from keras.datasets import fashion_mnist\n",
    "from keras.utils import to_categorical\n",
    "import numpy as np\n",
    "import matplotlib.pyplot as plt\n",
    "%matplotlib inline"
   ]
  },
  {
   "cell_type": "markdown",
   "metadata": {},
   "source": [
    "### Load data"
   ]
  },
  {
   "cell_type": "code",
   "execution_count": 37,
   "metadata": {
    "collapsed": true
   },
   "outputs": [],
   "source": [
    "(x_train, y_train), (x_test, y_test) = fashion_mnist.load_data()"
   ]
  },
  {
   "cell_type": "markdown",
   "metadata": {},
   "source": [
    "### Data Preprocess\n"
   ]
  },
  {
   "cell_type": "code",
   "execution_count": 38,
   "metadata": {},
   "outputs": [
    {
     "name": "stdout",
     "output_type": "stream",
     "text": [
      "training data shape (60000, 28, 28)\n",
      "tesing data shape (10000, 28, 28)\n"
     ]
    }
   ],
   "source": [
    "y_train = to_categorical(y_train)\n",
    "y_test = to_categorical(y_test)\n",
    "\n",
    "x_train = x_train.astype('float32')\n",
    "x_test = x_test.astype('float32')\n",
    "x_train /= 255\n",
    "x_test /= 255\n",
    "\n",
    "print(\"training data shape\", x_train.shape)\n",
    "print(\"tesing data shape\",x_test.shape)"
   ]
  },
  {
   "cell_type": "code",
   "execution_count": 39,
   "metadata": {},
   "outputs": [
    {
     "data": {
      "text/plain": [
       "<matplotlib.image.AxesImage at 0x1277ae940>"
      ]
     },
     "execution_count": 39,
     "metadata": {},
     "output_type": "execute_result"
    },
    {
     "data": {
      "image/png": "[encoded data removed]",
      "text/plain": [
       "<matplotlib.figure.Figure at 0x1272d0ba8>"
      ]
     },
     "metadata": {},
     "output_type": "display_data"
    }
   ],
   "source": [
    "plt.imshow(x_train[3, :].reshape((28, 28)))"
   ]
  },
  {
   "cell_type": "code",
   "execution_count": 40,
   "metadata": {},
   "outputs": [
    {
     "data": {
      "text/plain": [
       "<matplotlib.image.AxesImage at 0x1278ba208>"
      ]
     },
     "execution_count": 40,
     "metadata": {},
     "output_type": "execute_result"
    },
    {
     "data": {
      "image/png": "[encoded data removed]",
      "text/plain": [
       "<matplotlib.figure.Figure at 0x1277be898>"
      ]
     },
     "metadata": {},
     "output_type": "display_data"
    }
   ],
   "source": [
    "plt.imshow(x_train[230, :].reshape((28, 28)))"
   ]
  },
  {
   "cell_type": "markdown",
   "metadata": {},
   "source": [
    "### Train and validation set split"
   ]
  },
  {
   "cell_type": "code",
   "execution_count": 41,
   "metadata": {
    "collapsed": true
   },
   "outputs": [],
   "source": [
    "indices = np.arange(x_train.shape[0])\n",
    "np.random.shuffle(indices)\n",
    "data_input = x_train[indices]\n",
    "labels = y_train[indices]\n",
    "\n",
    "sample_size = 60000-int(60000*0.01)\n",
    "x_train = data_input[:sample_size]\n",
    "y_train = labels[:sample_size]\n",
    "x_vali = data_input[sample_size:60000]\n",
    "y_vali = labels[sample_size: 60000]"
   ]
  },
  {
   "cell_type": "markdown",
   "metadata": {},
   "source": [
    "### reshape input data"
   ]
  },
  {
   "cell_type": "code",
   "execution_count": 42,
   "metadata": {},
   "outputs": [
    {
     "name": "stdout",
     "output_type": "stream",
     "text": [
      "reshaped training data shape (59400, 28, 28, 1)\n",
      "reshaped tesing data shape (10000, 28, 28, 1)\n"
     ]
    }
   ],
   "source": [
    "img_rows, img_cols = 28, 28\n",
    "# 1 channel (grayscale, 3 in the case of color, 1 each for Red, Green and Blue)\n",
    "input_shape = (img_rows, img_cols, 1)   \n",
    "\n",
    "x_train = x_train.reshape(x_train.shape[0], img_rows, img_cols, 1)\n",
    "x_test = x_test.reshape(x_test.shape[0], img_rows, img_cols, 1)\n",
    "x_vali = x_vali.reshape(x_vali.shape[0], img_rows, img_cols, 1)\n",
    "\n",
    "print(\"reshaped training data shape\", x_train.shape)\n",
    "print(\"reshaped tesing data shape\",x_test.shape)"
   ]
  },
  {
   "cell_type": "markdown",
   "metadata": {},
   "source": [
    "# Build CNN Models"
   ]
  },
  {
   "cell_type": "code",
   "execution_count": 43,
   "metadata": {
    "collapsed": true
   },
   "outputs": [],
   "source": [
    "from keras.models import Sequential\n",
    "from keras.layers import Dense, Dropout, Flatten,Conv2D, MaxPooling2D, Activation\n",
    "from keras.layers.normalization import BatchNormalization\n",
    "from keras import optimizers\n",
    "import keras"
   ]
  },
  {
   "cell_type": "markdown",
   "metadata": {},
   "source": [
    "### one - layer model"
   ]
  },
  {
   "cell_type": "code",
   "execution_count": 44,
   "metadata": {},
   "outputs": [
    {
     "name": "stdout",
     "output_type": "stream",
     "text": [
      "_________________________________________________________________\n",
      "Layer (type)                 Output Shape              Param #   \n",
      "=================================================================\n",
      "conv2d_8 (Conv2D)            (None, 26, 26, 32)        320       \n",
      "_________________________________________________________________\n",
      "max_pooling2d_7 (MaxPooling2 (None, 13, 13, 32)        0         \n",
      "_________________________________________________________________\n",
      "dropout_8 (Dropout)          (None, 13, 13, 32)        0         \n",
      "_________________________________________________________________\n",
      "flatten_6 (Flatten)          (None, 5408)              0         \n",
      "_________________________________________________________________\n",
      "dense_11 (Dense)             (None, 64)                346176    \n",
      "_________________________________________________________________\n",
      "dense_12 (Dense)             (None, 10)                650       \n",
      "=================================================================\n",
      "Total params: 347,146\n",
      "Trainable params: 347,146\n",
      "Non-trainable params: 0\n",
      "_________________________________________________________________\n"
     ]
    }
   ],
   "source": [
    "model_1 = Sequential()\n",
    "model_1.add(Conv2D(32, kernel_size=(3, 3),\n",
    "                 activation='relu',\n",
    "                 input_shape=input_shape))\n",
    "model_1.add(MaxPooling2D(pool_size=(2,2)))\n",
    "model_1.add(Dropout(0.2))\n",
    "model_1.add(Flatten())\n",
    "model_1.add(Dense(64, activation='relu'))\n",
    "model_1.add(Dense(10, activation='softmax'))\n",
    "model_1.compile(loss='categorical_crossentropy',\n",
    "              optimizer = optimizers.Adam(lr = 0.001),\n",
    "              metrics=['accuracy'])\n",
    "model_1.summary()"
   ]
  },
  {
   "cell_type": "code",
   "execution_count": 45,
   "metadata": {
    "scrolled": true
   },
   "outputs": [
    {
     "name": "stdout",
     "output_type": "stream",
     "text": [
      "Train on 59400 samples, validate on 600 samples\n",
      "Epoch 1/50\n",
      "59400/59400 [==============================] - 23s 380us/step - loss: 0.6409 - acc: 0.7858 - val_loss: 0.4294 - val_acc: 0.8433\n",
      "Epoch 2/50\n",
      "59400/59400 [==============================] - 23s 382us/step - loss: 0.4010 - acc: 0.8595 - val_loss: 0.4212 - val_acc: 0.8350\n",
      "Epoch 3/50\n",
      "59400/59400 [==============================] - 22s 374us/step - loss: 0.3482 - acc: 0.8774 - val_loss: 0.3081 - val_acc: 0.8883\n",
      "Epoch 4/50\n",
      "59400/59400 [==============================] - 24s 398us/step - loss: 0.3150 - acc: 0.8890 - val_loss: 0.3071 - val_acc: 0.8750\n",
      "Epoch 5/50\n",
      "59400/59400 [==============================] - 24s 401us/step - loss: 0.2984 - acc: 0.8944 - val_loss: 0.2680 - val_acc: 0.9017\n",
      "Epoch 6/50\n",
      "59400/59400 [==============================] - 25s 422us/step - loss: 0.2804 - acc: 0.9009 - val_loss: 0.2651 - val_acc: 0.8983\n",
      "Epoch 7/50\n",
      "59400/59400 [==============================] - 22s 367us/step - loss: 0.2739 - acc: 0.9025 - val_loss: 0.3066 - val_acc: 0.8767\n",
      "Epoch 8/50\n",
      "59400/59400 [==============================] - 23s 386us/step - loss: 0.2609 - acc: 0.9061 - val_loss: 0.2474 - val_acc: 0.9117\n",
      "Epoch 9/50\n",
      "59400/59400 [==============================] - 23s 395us/step - loss: 0.2511 - acc: 0.9105 - val_loss: 0.2405 - val_acc: 0.9050\n",
      "Epoch 10/50\n",
      "59400/59400 [==============================] - 23s 386us/step - loss: 0.2423 - acc: 0.9125 - val_loss: 0.2347 - val_acc: 0.9133\n",
      "Epoch 11/50\n",
      "59400/59400 [==============================] - 22s 371us/step - loss: 0.2346 - acc: 0.9141 - val_loss: 0.2235 - val_acc: 0.9233\n",
      "Epoch 12/50\n",
      "59400/59400 [==============================] - 23s 388us/step - loss: 0.2322 - acc: 0.9162 - val_loss: 0.2482 - val_acc: 0.9050\n",
      "Epoch 13/50\n",
      "59400/59400 [==============================] - 21s 357us/step - loss: 0.2250 - acc: 0.9189 - val_loss: 0.2253 - val_acc: 0.9150\n",
      "Epoch 14/50\n",
      "59400/59400 [==============================] - 21s 360us/step - loss: 0.2188 - acc: 0.9202 - val_loss: 0.2111 - val_acc: 0.9167\n",
      "Epoch 15/50\n",
      "59400/59400 [==============================] - 22s 363us/step - loss: 0.2074 - acc: 0.9241 - val_loss: 0.2068 - val_acc: 0.9333\n",
      "Epoch 16/50\n",
      "59400/59400 [==============================] - 22s 376us/step - loss: 0.2082 - acc: 0.9239 - val_loss: 0.2211 - val_acc: 0.9267\n",
      "Epoch 17/50\n",
      "59400/59400 [==============================] - 22s 362us/step - loss: 0.2083 - acc: 0.9233 - val_loss: 0.2286 - val_acc: 0.9200\n",
      "Epoch 18/50\n",
      "59400/59400 [==============================] - 21s 350us/step - loss: 0.2020 - acc: 0.9270 - val_loss: 0.2040 - val_acc: 0.9267\n",
      "Epoch 19/50\n",
      "59400/59400 [==============================] - 21s 357us/step - loss: 0.1955 - acc: 0.9288 - val_loss: 0.2440 - val_acc: 0.9033\n",
      "Epoch 20/50\n",
      "59400/59400 [==============================] - 25s 416us/step - loss: 0.1907 - acc: 0.9306 - val_loss: 0.2106 - val_acc: 0.9283\n",
      "Epoch 21/50\n",
      "59400/59400 [==============================] - 23s 379us/step - loss: 0.1867 - acc: 0.9321 - val_loss: 0.2024 - val_acc: 0.9250\n",
      "Epoch 22/50\n",
      "59400/59400 [==============================] - 25s 421us/step - loss: 0.1781 - acc: 0.9349 - val_loss: 0.1913 - val_acc: 0.9300\n",
      "Epoch 23/50\n",
      "59400/59400 [==============================] - 26s 433us/step - loss: 0.1752 - acc: 0.9369 - val_loss: 0.1946 - val_acc: 0.9283\n",
      "Epoch 24/50\n",
      "59400/59400 [==============================] - 20s 343us/step - loss: 0.1713 - acc: 0.9373 - val_loss: 0.2087 - val_acc: 0.9333\n",
      "Epoch 25/50\n",
      "59400/59400 [==============================] - 23s 391us/step - loss: 0.1722 - acc: 0.9365 - val_loss: 0.1909 - val_acc: 0.9267\n",
      "Epoch 26/50\n",
      "59400/59400 [==============================] - 23s 383us/step - loss: 0.1630 - acc: 0.9412 - val_loss: 0.2055 - val_acc: 0.9250\n",
      "Epoch 27/50\n",
      "59400/59400 [==============================] - 21s 345us/step - loss: 0.1606 - acc: 0.9416 - val_loss: 0.2400 - val_acc: 0.9150\n",
      "Epoch 28/50\n",
      "59400/59400 [==============================] - 20s 343us/step - loss: 0.1619 - acc: 0.9415 - val_loss: 0.1982 - val_acc: 0.9317\n",
      "Epoch 29/50\n",
      "59400/59400 [==============================] - 22s 369us/step - loss: 0.1547 - acc: 0.9430 - val_loss: 0.2035 - val_acc: 0.9283\n",
      "Epoch 30/50\n",
      "59400/59400 [==============================] - 24s 401us/step - loss: 0.1538 - acc: 0.9432 - val_loss: 0.1920 - val_acc: 0.9333\n",
      "Epoch 31/50\n",
      "59400/59400 [==============================] - 25s 426us/step - loss: 0.1477 - acc: 0.9457 - val_loss: 0.2483 - val_acc: 0.8950\n",
      "Epoch 32/50\n",
      "59400/59400 [==============================] - 23s 387us/step - loss: 0.1592 - acc: 0.9420 - val_loss: 0.2011 - val_acc: 0.9217\n",
      "Epoch 33/50\n",
      "59400/59400 [==============================] - 23s 381us/step - loss: 0.1411 - acc: 0.9475 - val_loss: 0.2138 - val_acc: 0.9167\n",
      "Epoch 34/50\n",
      "59400/59400 [==============================] - 22s 374us/step - loss: 0.1388 - acc: 0.9490 - val_loss: 0.1875 - val_acc: 0.9300\n",
      "Epoch 35/50\n",
      "59400/59400 [==============================] - 21s 361us/step - loss: 0.1338 - acc: 0.9509 - val_loss: 0.2555 - val_acc: 0.9083\n",
      "Epoch 36/50\n",
      "59400/59400 [==============================] - 22s 371us/step - loss: 0.1395 - acc: 0.9477 - val_loss: 0.1960 - val_acc: 0.9267\n",
      "Epoch 37/50\n",
      "59400/59400 [==============================] - 22s 371us/step - loss: 0.1283 - acc: 0.9530 - val_loss: 0.2008 - val_acc: 0.9200\n",
      "Epoch 38/50\n",
      "59400/59400 [==============================] - 22s 377us/step - loss: 0.1261 - acc: 0.9526 - val_loss: 0.1849 - val_acc: 0.9350\n",
      "Epoch 39/50\n",
      "59400/59400 [==============================] - 21s 355us/step - loss: 0.1240 - acc: 0.9551 - val_loss: 0.2014 - val_acc: 0.9300\n",
      "Epoch 40/50\n",
      "59400/59400 [==============================] - 21s 352us/step - loss: 0.1213 - acc: 0.9551 - val_loss: 0.1999 - val_acc: 0.9250\n",
      "Epoch 41/50\n",
      "59400/59400 [==============================] - 20s 345us/step - loss: 0.1176 - acc: 0.9564 - val_loss: 0.2172 - val_acc: 0.9250\n",
      "Epoch 42/50\n",
      "59400/59400 [==============================] - 20s 344us/step - loss: 0.1156 - acc: 0.9586 - val_loss: 0.2152 - val_acc: 0.9267\n",
      "Epoch 43/50\n",
      "59400/59400 [==============================] - 22s 369us/step - loss: 0.1130 - acc: 0.9590 - val_loss: 0.2025 - val_acc: 0.9300\n",
      "Epoch 44/50\n",
      "59400/59400 [==============================] - 21s 357us/step - loss: 0.1142 - acc: 0.9581 - val_loss: 0.2250 - val_acc: 0.9200\n",
      "Epoch 45/50\n",
      "59400/59400 [==============================] - 21s 353us/step - loss: 0.1155 - acc: 0.9578 - val_loss: 0.1964 - val_acc: 0.9267\n",
      "Epoch 46/50\n",
      "59400/59400 [==============================] - 21s 351us/step - loss: 0.1044 - acc: 0.9621 - val_loss: 0.2030 - val_acc: 0.9317\n",
      "Epoch 47/50\n",
      "59400/59400 [==============================] - 21s 359us/step - loss: 0.1151 - acc: 0.9570 - val_loss: 0.1899 - val_acc: 0.9300\n",
      "Epoch 48/50\n",
      "59400/59400 [==============================] - 23s 393us/step - loss: 0.1036 - acc: 0.9616 - val_loss: 0.2101 - val_acc: 0.9267\n",
      "Epoch 49/50\n",
      "59400/59400 [==============================] - 22s 371us/step - loss: 0.1023 - acc: 0.9621 - val_loss: 0.2201 - val_acc: 0.9267\n",
      "Epoch 50/50\n",
      "59400/59400 [==============================] - 23s 382us/step - loss: 0.1073 - acc: 0.9607 - val_loss: 0.2629 - val_acc: 0.9067\n"
     ]
    }
   ],
   "source": [
    "batch_size = 512\n",
    "num_classes = 10\n",
    "epochs = 50\n",
    "\n",
    "history = model_1.fit(x_train, y_train, batch_size = batch_size,\n",
    "        epochs=epochs, verbose=1,validation_data=(x_vali, y_vali))"
   ]
  },
  {
   "cell_type": "code",
   "execution_count": 46,
   "metadata": {},
   "outputs": [
    {
     "data": {
      "image/png": "[encoded data removed]",
      "text/plain": [
       "<matplotlib.figure.Figure at 0x1280a76d8>"
      ]
     },
     "metadata": {},
     "output_type": "display_data"
    },
    {
     "data": {
      "image/png": "[encoded data removed]",
      "text/plain": [
       "<matplotlib.figure.Figure at 0x1282800b8>"
      ]
     },
     "metadata": {},
     "output_type": "display_data"
    }
   ],
   "source": [
    "acc = history.history['acc']\n",
    "val_acc = history.history['val_acc']\n",
    "loss = history.history['loss']\n",
    "val_loss = history.history['val_loss']\n",
    "\n",
    "epochs = range(len(acc))\n",
    "\n",
    "plt.plot(epochs, acc, 'bo', label='Training acc')\n",
    "plt.plot(epochs, val_acc, 'b', label='Validation acc')\n",
    "plt.title('Training and validation accuracy')\n",
    "plt.legend()\n",
    "\n",
    "plt.figure()\n",
    "\n",
    "plt.plot(epochs, loss, 'bo', label='Training loss')\n",
    "plt.plot(epochs, val_loss, 'b', label='Validation loss')\n",
    "plt.title('Training and validation loss')\n",
    "plt.legend()\n",
    "\n",
    "plt.show()"
   ]
  },
  {
   "cell_type": "markdown",
   "metadata": {},
   "source": [
    "### test accuracy -- 0.9049"
   ]
  },
  {
   "cell_type": "code",
   "execution_count": 47,
   "metadata": {},
   "outputs": [
    {
     "name": "stdout",
     "output_type": "stream",
     "text": [
      "10000/10000 [==============================] - 1s 149us/step\n"
     ]
    },
    {
     "data": {
      "text/plain": [
       "[0.2981989410698414, 0.9049]"
      ]
     },
     "execution_count": 47,
     "metadata": {},
     "output_type": "execute_result"
    }
   ],
   "source": [
    "model_1.evaluate(x_test, y_test)"
   ]
  },
  {
   "cell_type": "markdown",
   "metadata": {},
   "source": [
    "###  Three - layer model"
   ]
  },
  {
   "cell_type": "code",
   "execution_count": 29,
   "metadata": {
    "scrolled": true
   },
   "outputs": [
    {
     "name": "stdout",
     "output_type": "stream",
     "text": [
      "_________________________________________________________________\n",
      "Layer (type)                 Output Shape              Param #   \n",
      "=================================================================\n",
      "conv2d_1 (Conv2D)            (None, 26, 26, 32)        320       \n",
      "_________________________________________________________________\n",
      "max_pooling2d_1 (MaxPooling2 (None, 13, 13, 32)        0         \n",
      "_________________________________________________________________\n",
      "dropout_1 (Dropout)          (None, 13, 13, 32)        0         \n",
      "_________________________________________________________________\n",
      "conv2d_2 (Conv2D)            (None, 11, 11, 64)        18496     \n",
      "_________________________________________________________________\n",
      "max_pooling2d_2 (MaxPooling2 (None, 5, 5, 64)          0         \n",
      "_________________________________________________________________\n",
      "dropout_2 (Dropout)          (None, 5, 5, 64)          0         \n",
      "_________________________________________________________________\n",
      "conv2d_3 (Conv2D)            (None, 3, 3, 128)         73856     \n",
      "_________________________________________________________________\n",
      "dropout_3 (Dropout)          (None, 3, 3, 128)         0         \n",
      "_________________________________________________________________\n",
      "flatten_1 (Flatten)          (None, 1152)              0         \n",
      "_________________________________________________________________\n",
      "dense_1 (Dense)              (None, 128)               147584    \n",
      "_________________________________________________________________\n",
      "dense_2 (Dense)              (None, 10)                1290      \n",
      "=================================================================\n",
      "Total params: 241,546\n",
      "Trainable params: 241,546\n",
      "Non-trainable params: 0\n",
      "_________________________________________________________________\n"
     ]
    }
   ],
   "source": [
    "model = Sequential()\n",
    "model.add(Conv2D(32, kernel_size=(3, 3),activation='relu',kernel_initializer='he_normal',\n",
    "                 input_shape=input_shape))\n",
    "model.add(MaxPooling2D((2, 2)))\n",
    "model.add(Dropout(0.2))\n",
    "model.add(Conv2D(64, (3, 3), activation='relu'))\n",
    "model.add(MaxPooling2D(pool_size=(2, 2)))\n",
    "model.add(Dropout(0.2))\n",
    "model.add(Conv2D(128, (3, 3), activation='relu'))\n",
    "model.add(Dropout(0.4))\n",
    "model.add(Flatten())\n",
    "model.add(Dense(128, activation='relu'))\n",
    "model.add(Dense(10,activation='softmax'))\n",
    "model.compile(loss='categorical_crossentropy',\n",
    "              optimizer = optimizers.Adam(lr = 0.001),\n",
    "              metrics=['accuracy'])\n",
    "model.summary()"
   ]
  },
  {
   "cell_type": "code",
   "execution_count": 17,
   "metadata": {
    "scrolled": true
   },
   "outputs": [
    {
     "name": "stdout",
     "output_type": "stream",
     "text": [
      "Train on 59400 samples, validate on 600 samples\n",
      "Epoch 1/50\n",
      "59400/59400 [==============================] - 54s 908us/step - loss: 0.7862 - acc: 0.7083 - val_loss: 0.5315 - val_acc: 0.8183\n",
      "Epoch 2/50\n",
      "59400/59400 [==============================] - 53s 892us/step - loss: 0.4904 - acc: 0.8189 - val_loss: 0.4311 - val_acc: 0.8267\n",
      "Epoch 3/50\n",
      "59400/59400 [==============================] - 53s 885us/step - loss: 0.4239 - acc: 0.8435 - val_loss: 0.3692 - val_acc: 0.8683\n",
      "Epoch 4/50\n",
      "59400/59400 [==============================] - 58s 977us/step - loss: 0.3860 - acc: 0.8589 - val_loss: 0.3273 - val_acc: 0.8667\n",
      "Epoch 5/50\n",
      "59400/59400 [==============================] - 60s 1ms/step - loss: 0.3650 - acc: 0.8652 - val_loss: 0.3683 - val_acc: 0.8367\n",
      "Epoch 6/50\n",
      "59400/59400 [==============================] - 55s 929us/step - loss: 0.3486 - acc: 0.8707 - val_loss: 0.3094 - val_acc: 0.8817\n",
      "Epoch 7/50\n",
      "59400/59400 [==============================] - 55s 926us/step - loss: 0.3289 - acc: 0.8780 - val_loss: 0.2705 - val_acc: 0.8900\n",
      "Epoch 8/50\n",
      "59400/59400 [==============================] - 54s 906us/step - loss: 0.3087 - acc: 0.8862 - val_loss: 0.3083 - val_acc: 0.8733\n",
      "Epoch 9/50\n",
      "59400/59400 [==============================] - 55s 928us/step - loss: 0.2978 - acc: 0.8885 - val_loss: 0.2865 - val_acc: 0.8750\n",
      "Epoch 10/50\n",
      "59400/59400 [==============================] - 55s 919us/step - loss: 0.2897 - acc: 0.8930 - val_loss: 0.2801 - val_acc: 0.8783\n",
      "Epoch 11/50\n",
      "59400/59400 [==============================] - 55s 921us/step - loss: 0.2800 - acc: 0.8955 - val_loss: 0.3222 - val_acc: 0.8683\n",
      "Epoch 12/50\n",
      "59400/59400 [==============================] - 60s 1ms/step - loss: 0.2787 - acc: 0.8960 - val_loss: 0.2837 - val_acc: 0.8867\n",
      "Epoch 13/50\n",
      "59400/59400 [==============================] - 59s 992us/step - loss: 0.2699 - acc: 0.8999 - val_loss: 0.2447 - val_acc: 0.8983\n",
      "Epoch 14/50\n",
      "59400/59400 [==============================] - 55s 934us/step - loss: 0.2572 - acc: 0.9037 - val_loss: 0.2741 - val_acc: 0.8983\n",
      "Epoch 15/50\n",
      "59400/59400 [==============================] - 54s 910us/step - loss: 0.2602 - acc: 0.9030 - val_loss: 0.2383 - val_acc: 0.9017\n",
      "Epoch 16/50\n",
      "59400/59400 [==============================] - 53s 899us/step - loss: 0.2447 - acc: 0.9082 - val_loss: 0.2514 - val_acc: 0.8983\n",
      "Epoch 17/50\n",
      "59400/59400 [==============================] - 55s 921us/step - loss: 0.2408 - acc: 0.9108 - val_loss: 0.2330 - val_acc: 0.9083\n",
      "Epoch 18/50\n",
      "59400/59400 [==============================] - 54s 907us/step - loss: 0.2364 - acc: 0.9115 - val_loss: 0.2454 - val_acc: 0.9000\n",
      "Epoch 19/50\n",
      "59400/59400 [==============================] - 54s 915us/step - loss: 0.2315 - acc: 0.9127 - val_loss: 0.2269 - val_acc: 0.9133\n",
      "Epoch 20/50\n",
      "59400/59400 [==============================] - 54s 902us/step - loss: 0.2281 - acc: 0.9158 - val_loss: 0.2500 - val_acc: 0.8950\n",
      "Epoch 21/50\n",
      "59400/59400 [==============================] - 56s 949us/step - loss: 0.2307 - acc: 0.9132 - val_loss: 0.2424 - val_acc: 0.9067\n",
      "Epoch 22/50\n",
      "59400/59400 [==============================] - 55s 922us/step - loss: 0.2288 - acc: 0.9139 - val_loss: 0.2246 - val_acc: 0.9133\n",
      "Epoch 23/50\n",
      "59400/59400 [==============================] - 58s 981us/step - loss: 0.2152 - acc: 0.9190 - val_loss: 0.2283 - val_acc: 0.9133\n",
      "Epoch 24/50\n",
      "59400/59400 [==============================] - 54s 916us/step - loss: 0.2177 - acc: 0.9176 - val_loss: 0.2235 - val_acc: 0.9033\n",
      "Epoch 25/50\n",
      "59400/59400 [==============================] - 54s 904us/step - loss: 0.2137 - acc: 0.9202 - val_loss: 0.2190 - val_acc: 0.9033\n",
      "Epoch 26/50\n",
      "59400/59400 [==============================] - 55s 919us/step - loss: 0.2157 - acc: 0.9183 - val_loss: 0.2133 - val_acc: 0.9150\n",
      "Epoch 27/50\n",
      "59400/59400 [==============================] - 57s 955us/step - loss: 0.2034 - acc: 0.9242 - val_loss: 0.2046 - val_acc: 0.9217\n",
      "Epoch 28/50\n",
      "59400/59400 [==============================] - 54s 916us/step - loss: 0.1979 - acc: 0.9257 - val_loss: 0.2035 - val_acc: 0.9150\n",
      "Epoch 29/50\n",
      "59400/59400 [==============================] - 56s 950us/step - loss: 0.2020 - acc: 0.9233 - val_loss: 0.2039 - val_acc: 0.9233\n",
      "Epoch 30/50\n",
      "59400/59400 [==============================] - 57s 952us/step - loss: 0.1934 - acc: 0.9277 - val_loss: 0.2591 - val_acc: 0.8983\n",
      "Epoch 31/50\n",
      "59400/59400 [==============================] - 53s 898us/step - loss: 0.2072 - acc: 0.9207 - val_loss: 0.2213 - val_acc: 0.9183\n",
      "Epoch 32/50\n",
      "59400/59400 [==============================] - 58s 981us/step - loss: 0.2115 - acc: 0.9210 - val_loss: 0.2189 - val_acc: 0.9117\n",
      "Epoch 33/50\n",
      "59400/59400 [==============================] - 55s 920us/step - loss: 0.1898 - acc: 0.9293 - val_loss: 0.2054 - val_acc: 0.9167\n",
      "Epoch 34/50\n",
      "59400/59400 [==============================] - 54s 915us/step - loss: 0.1864 - acc: 0.9297 - val_loss: 0.2102 - val_acc: 0.9150\n",
      "Epoch 35/50\n",
      "59400/59400 [==============================] - 53s 895us/step - loss: 0.1895 - acc: 0.9283 - val_loss: 0.2116 - val_acc: 0.9133\n",
      "Epoch 36/50\n",
      "59400/59400 [==============================] - 53s 896us/step - loss: 0.1869 - acc: 0.9291 - val_loss: 0.2449 - val_acc: 0.8967\n",
      "Epoch 37/50\n",
      "59400/59400 [==============================] - 49s 827us/step - loss: 0.1928 - acc: 0.9272 - val_loss: 0.2017 - val_acc: 0.9217\n",
      "Epoch 38/50\n",
      "59400/59400 [==============================] - 49s 831us/step - loss: 0.1790 - acc: 0.9314 - val_loss: 0.2116 - val_acc: 0.9183\n",
      "Epoch 39/50\n",
      "59400/59400 [==============================] - 49s 830us/step - loss: 0.1761 - acc: 0.9327 - val_loss: 0.1988 - val_acc: 0.9267\n",
      "Epoch 40/50\n",
      "59400/59400 [==============================] - 49s 825us/step - loss: 0.1690 - acc: 0.9363 - val_loss: 0.2096 - val_acc: 0.9183\n",
      "Epoch 41/50\n",
      "59400/59400 [==============================] - 49s 829us/step - loss: 0.1751 - acc: 0.9331 - val_loss: 0.1858 - val_acc: 0.9217\n",
      "Epoch 42/50\n",
      "59400/59400 [==============================] - 50s 849us/step - loss: 0.1700 - acc: 0.9347 - val_loss: 0.2125 - val_acc: 0.9150\n",
      "Epoch 43/50\n",
      "59400/59400 [==============================] - 53s 885us/step - loss: 0.1777 - acc: 0.9327 - val_loss: 0.2085 - val_acc: 0.9183\n",
      "Epoch 44/50\n",
      "59400/59400 [==============================] - 53s 885us/step - loss: 0.1666 - acc: 0.9358 - val_loss: 0.2208 - val_acc: 0.9083\n",
      "Epoch 45/50\n",
      "59400/59400 [==============================] - 53s 885us/step - loss: 0.1735 - acc: 0.9344 - val_loss: 0.2209 - val_acc: 0.9133\n",
      "Epoch 46/50\n",
      "59400/59400 [==============================] - 53s 888us/step - loss: 0.1620 - acc: 0.9382 - val_loss: 0.2053 - val_acc: 0.9133\n",
      "Epoch 47/50\n",
      "59400/59400 [==============================] - 52s 883us/step - loss: 0.1587 - acc: 0.9394 - val_loss: 0.1998 - val_acc: 0.9250\n",
      "Epoch 48/50\n",
      "59400/59400 [==============================] - 52s 881us/step - loss: 0.1589 - acc: 0.9393 - val_loss: 0.2166 - val_acc: 0.9217\n",
      "Epoch 49/50\n",
      "59400/59400 [==============================] - 230s 4ms/step - loss: 0.1668 - acc: 0.9368 - val_loss: 0.2058 - val_acc: 0.9167\n",
      "Epoch 50/50\n",
      "59400/59400 [==============================] - 60s 1ms/step - loss: 0.1681 - acc: 0.9366 - val_loss: 0.2138 - val_acc: 0.9200\n"
     ]
    }
   ],
   "source": [
    "history= model.fit(x_train, y_train, batch_size = batch_size,\n",
    "        epochs=epochs, verbose=1,validation_data=(x_vali, y_vali))"
   ]
  },
  {
   "cell_type": "code",
   "execution_count": 20,
   "metadata": {},
   "outputs": [
    {
     "data": {
      "image/png": "[encoded data removed]",
      "text/plain": [
       "<matplotlib.figure.Figure at 0x11499ec18>"
      ]
     },
     "metadata": {},
     "output_type": "display_data"
    },
    {
     "data": {
      "image/png": "[encoded data removed]",
      "text/plain": [
       "<matplotlib.figure.Figure at 0x1101824a8>"
      ]
     },
     "metadata": {},
     "output_type": "display_data"
    }
   ],
   "source": [
    "acc = history.history['acc']\n",
    "val_acc = history.history['val_acc']\n",
    "loss = history.history['loss']\n",
    "val_loss = history.history['val_loss']\n",
    "\n",
    "epochs = range(len(acc))\n",
    "\n",
    "plt.plot(epochs, acc, 'bo', label='Training acc')\n",
    "plt.plot(epochs, val_acc, 'b', label='Validation acc')\n",
    "plt.title('Training and validation accuracy')\n",
    "plt.legend()\n",
    "\n",
    "plt.figure()\n",
    "\n",
    "plt.plot(epochs, loss, 'bo', label='Training loss')\n",
    "plt.plot(epochs, val_loss, 'b', label='Validation loss')\n",
    "plt.title('Training and validation loss')\n",
    "plt.legend()\n",
    "\n",
    "plt.show()"
   ]
  },
  {
   "cell_type": "code",
   "execution_count": 21,
   "metadata": {},
   "outputs": [
    {
     "name": "stdout",
     "output_type": "stream",
     "text": [
      "10000/10000 [==============================] - 3s 338us/step\n"
     ]
    },
    {
     "data": {
      "text/plain": [
       "[0.21967999415397643, 0.9237]"
      ]
     },
     "execution_count": 21,
     "metadata": {},
     "output_type": "execute_result"
    }
   ],
   "source": [
    "model.evaluate(x_test, y_test)"
   ]
  },
  {
   "cell_type": "markdown",
   "metadata": {},
   "source": [
    " Validation accuracy fluctuated a lot in 1-layer model \n",
    " \n",
    " 3-layer CNN model gives test accuracy 92.37% compared to  90.49% from 1-layer model."
   ]
  }
 ],
 "metadata": {
  "kernelspec": {
   "display_name": "Python 3",
   "language": "python",
   "name": "python3"
  },
  "language_info": {
   "codemirror_mode": {
    "name": "ipython",
    "version": 3
   },
   "file_extension": ".py",
   "mimetype": "text/x-python",
   "name": "python",
   "nbconvert_exporter": "python",
   "pygments_lexer": "ipython3",
   "version": "3.6.1"
  }
 },
 "nbformat": 4,
 "nbformat_minor": 2
}
