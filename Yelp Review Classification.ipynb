{
 "cells": [
  {
   "cell_type": "markdown",
   "metadata": {},
   "source": [
    "Link to medium post: https://medium.com/@zhiwei_zhang/yelp-review-classification-b2816d990429"
   ]
  },
  {
   "cell_type": "code",
   "execution_count": 1,
   "metadata": {},
   "outputs": [
    {
     "name": "stderr",
     "output_type": "stream",
     "text": [
      "/home/ubuntu/anaconda3/envs/tensorflow_p36/lib/python3.6/site-packages/h5py/__init__.py:36: FutureWarning: Conversion of the second argument of issubdtype from `float` to `np.floating` is deprecated. In future, it will be treated as `np.float64 == np.dtype(float).type`.\n",
      "  from ._conv import register_converters as _register_converters\n",
      "Using TensorFlow backend.\n",
      "/home/ubuntu/anaconda3/envs/tensorflow_p36/lib/python3.6/site-packages/matplotlib/__init__.py:1067: UserWarning: Duplicate key in file \"/home/ubuntu/.config/matplotlib/matplotlibrc\", line #2\n",
      "  (fname, cnt))\n",
      "/home/ubuntu/anaconda3/envs/tensorflow_p36/lib/python3.6/site-packages/matplotlib/__init__.py:1067: UserWarning: Duplicate key in file \"/home/ubuntu/.config/matplotlib/matplotlibrc\", line #3\n",
      "  (fname, cnt))\n"
     ]
    }
   ],
   "source": [
    "from keras.preprocessing.text import Tokenizer\n",
    "from keras.preprocessing.sequence import pad_sequences\n",
    "import numpy as np\n",
    "import pandas as pd\n",
    "import matplotlib.pyplot as plt\n",
    "%matplotlib inline \n",
    "from keras.models import Sequential\n",
    "from keras.layers import LSTM\n",
    "from keras.layers import Embedding, Conv1D,MaxPooling1D, Flatten, Dense,Dropout,LSTM,Bidirectional\n",
    "from keras.optimizers import RMSprop"
   ]
  },
  {
   "cell_type": "markdown",
   "metadata": {},
   "source": [
    "### Load Data"
   ]
  },
  {
   "cell_type": "code",
   "execution_count": 2,
   "metadata": {},
   "outputs": [
    {
     "name": "stderr",
     "output_type": "stream",
     "text": [
      "/home/ubuntu/anaconda3/envs/tensorflow_p36/lib/python3.6/site-packages/IPython/core/interactiveshell.py:2785: DtypeWarning: Columns (0) have mixed types. Specify dtype option on import or set low_memory=False.\n",
      "  interactivity=interactivity, compiler=compiler, result=result)\n"
     ]
    }
   ],
   "source": [
    "data = pd.read_csv('review_star.csv')"
   ]
  },
  {
   "cell_type": "code",
   "execution_count": 3,
   "metadata": {
    "collapsed": true
   },
   "outputs": [],
   "source": [
    "data = data.dropna()\n",
    "text = data['text'].tolist()\n",
    "binstars = data['stars'].tolist()\n",
    "binstars = [int(star) for star in binstars]"
   ]
  },
  {
   "cell_type": "markdown",
   "metadata": {},
   "source": [
    "### Make a balanced dataset of positive and negative review -- 50:50"
   ]
  },
  {
   "cell_type": "code",
   "execution_count": 4,
   "metadata": {
    "collapsed": true
   },
   "outputs": [],
   "source": [
    "balanced_texts = []   # contains 50000 positive reviews and 50000 negative reviews\n",
    "balanced_labels = []     \n",
    "count = 50000  \n",
    "neg_pos = [0, 0]\n",
    "for i in range(len(text)):\n",
    "    sentiment = binstars[i]\n",
    "    if neg_pos[sentiment] < count:\n",
    "        balanced_texts.append(text[i])\n",
    "        balanced_labels.append(binstars[i])\n",
    "        neg_pos[sentiment] += 1"
   ]
  },
  {
   "cell_type": "code",
   "execution_count": 5,
   "metadata": {
    "collapsed": true
   },
   "outputs": [],
   "source": [
    "# cut reviews after 200 words\n",
    "maxlen = 200 \n",
    "# Number of words to consider as features\n",
    "# restrict the yelp reviews to the top 10000 most common words\n",
    "max_words = 10000  \n",
    "\n",
    "training_samples = 75000  #  train on 75000 samples\n",
    "test_samples = 25000  # test on 25000 samples"
   ]
  },
  {
   "cell_type": "code",
   "execution_count": 6,
   "metadata": {},
   "outputs": [
    {
     "name": "stdout",
     "output_type": "stream",
     "text": [
      "163\n",
      "251\n"
     ]
    }
   ],
   "source": [
    "# create a tokenizer and it will ignore all except the 10000 most-common words\n",
    "tokenizer = Tokenizer(num_words = max_words)\n",
    "# use tokenizer to calculate the frequency of each word in dataset.\n",
    "tokenizer.fit_on_texts(balanced_texts)\n",
    "# convert all of reviews to lists of integers\n",
    "sequences = tokenizer.texts_to_sequences(balanced_texts)\n",
    "print(len(sequences[1]))\n",
    "print(len(sequences[2]))\n",
    "\n",
    "\n",
    "# use pad_sequence to make traning samples the same size, fill with zeros\n",
    "data_input = pad_sequences(sequences, maxlen = maxlen)\n",
    "labels = np.asarray(balanced_labels)"
   ]
  },
  {
   "cell_type": "markdown",
   "metadata": {},
   "source": [
    "### train and test split"
   ]
  },
  {
   "cell_type": "code",
   "execution_count": 7,
   "metadata": {},
   "outputs": [
    {
     "name": "stdout",
     "output_type": "stream",
     "text": [
      " x_train (75000, 200)\n",
      " y_train (75000,)\n"
     ]
    }
   ],
   "source": [
    "indices = np.arange(data_input.shape[0])\n",
    "np.random.shuffle(indices)\n",
    "data_input = data_input[indices]\n",
    "labels = labels[indices]\n",
    "\n",
    "# train on 75000，test on 25000\n",
    "x_train = data_input[:training_samples]\n",
    "y_train = labels[:training_samples]\n",
    "x_test = data_input[training_samples: training_samples + test_samples]\n",
    "y_test = labels[training_samples: training_samples + test_samples]\n",
    "print(\" x_train\",x_train.shape)\n",
    "print(\" y_train\",y_train.shape)\n"
   ]
  },
  {
   "cell_type": "markdown",
   "metadata": {},
   "source": [
    " ### Model 1 - Using Embedding layer and LSTM"
   ]
  },
  {
   "cell_type": "code",
   "execution_count": 9,
   "metadata": {},
   "outputs": [
    {
     "name": "stdout",
     "output_type": "stream",
     "text": [
      "_________________________________________________________________\n",
      "Layer (type)                 Output Shape              Param #   \n",
      "=================================================================\n",
      "embedding_2 (Embedding)      (None, 200, 64)           640000    \n",
      "_________________________________________________________________\n",
      "lstm_2 (LSTM)                (None, 64)                33024     \n",
      "_________________________________________________________________\n",
      "dense_2 (Dense)              (None, 1)                 65        \n",
      "=================================================================\n",
      "Total params: 673,089\n",
      "Trainable params: 673,089\n",
      "Non-trainable params: 0\n",
      "_________________________________________________________________\n"
     ]
    }
   ],
   "source": [
    "max_words = 10000 \n",
    "maxlen = 200\n",
    "model = Sequential()\n",
    "model.add(Embedding(max_words, 64,input_length = maxlen))\n",
    "model.add(LSTM(64,dropout=0.2, recurrent_dropout=0.2))\n",
    "model.add(Dense(1, activation='sigmoid'))\n",
    "\n",
    "model.compile(optimizer='rmsprop',\n",
    "              loss='binary_crossentropy',\n",
    "              metrics=['acc'])\n",
    "model.summary()"
   ]
  },
  {
   "cell_type": "code",
   "execution_count": 81,
   "metadata": {},
   "outputs": [
    {
     "name": "stdout",
     "output_type": "stream",
     "text": [
      "Train on 60000 samples, validate on 15000 samples\n",
      "Epoch 1/5\n",
      "60000/60000 [==============================] - 178s 3ms/step - loss: 0.4011 - acc: 0.8261 - val_loss: 0.3087 - val_acc: 0.8721\n",
      "Epoch 2/5\n",
      "60000/60000 [==============================] - 173s 3ms/step - loss: 0.3041 - acc: 0.8780 - val_loss: 0.3605 - val_acc: 0.8611\n",
      "Epoch 3/5\n",
      "60000/60000 [==============================] - 174s 3ms/step - loss: 0.2775 - acc: 0.8891 - val_loss: 0.2887 - val_acc: 0.8884\n",
      "Epoch 4/5\n",
      "60000/60000 [==============================] - 173s 3ms/step - loss: 0.2577 - acc: 0.8978 - val_loss: 0.2812 - val_acc: 0.8853\n",
      "Epoch 5/5\n",
      "60000/60000 [==============================] - 174s 3ms/step - loss: 0.2440 - acc: 0.9044 - val_loss: 0.3176 - val_acc: 0.8852\n"
     ]
    }
   ],
   "source": [
    "history = model.fit(x_train, y_train,\n",
    "                    epochs=5,\n",
    "                    batch_size=128,\n",
    "                    validation_split=0.2)"
   ]
  },
  {
   "cell_type": "code",
   "execution_count": 83,
   "metadata": {},
   "outputs": [
    {
     "data": {
      "image/png": "[encoded data removed]",
      "text/plain": [
       "<Figure size 432x288 with 1 Axes>"
      ]
     },
     "metadata": {},
     "output_type": "display_data"
    },
    {
     "data": {
      "image/png": "[encoded data removed]",
      "text/plain": [
       "<Figure size 432x288 with 1 Axes>"
      ]
     },
     "metadata": {},
     "output_type": "display_data"
    }
   ],
   "source": [
    "acc = history.history['acc']\n",
    "val_acc = history.history['val_acc']\n",
    "loss = history.history['loss']\n",
    "val_loss = history.history['val_loss']\n",
    "\n",
    "epochs = range(len(acc))\n",
    "\n",
    "plt.plot(epochs, acc, 'bo', label='Training acc')\n",
    "plt.plot(epochs, val_acc, 'b', label='Validation acc')\n",
    "plt.title('Training and validation accuracy')\n",
    "plt.legend()\n",
    "\n",
    "plt.figure()\n",
    "\n",
    "plt.plot(epochs, loss, 'bo', label='Training loss')\n",
    "plt.plot(epochs, val_loss, 'b', label='Validation loss')\n",
    "plt.title('Training and validation loss')\n",
    "plt.legend()\n",
    "\n",
    "plt.show()"
   ]
  },
  {
   "cell_type": "code",
   "execution_count": 87,
   "metadata": {},
   "outputs": [
    {
     "name": "stdout",
     "output_type": "stream",
     "text": [
      "25000/25000 [==============================] - 62s 2ms/step\n"
     ]
    },
    {
     "data": {
      "text/plain": [
       "[0.27423553356170655, 0.89592]"
      ]
     },
     "execution_count": 87,
     "metadata": {},
     "output_type": "execute_result"
    }
   ],
   "source": [
    "model.evaluate(x_test, y_test)"
   ]
  },
  {
   "cell_type": "code",
   "execution_count": 24,
   "metadata": {
    "collapsed": true
   },
   "outputs": [],
   "source": [
    "max_words = 10000 \n",
    "maxlen = 200\n",
    "model = Sequential()\n",
    "model.add(Embedding(max_words, 64,input_length = maxlen))\n",
    "model.add(LSTM(64,dropout=0.2, recurrent_dropout=0.2))\n",
    "model.add(Dense(1, activation='sigmoid'))\n",
    "\n",
    "model.compile(optimizer='rmsprop',\n",
    "              loss='binary_crossentropy',\n",
    "              metrics=['acc'])"
   ]
  },
  {
   "cell_type": "code",
   "execution_count": 25,
   "metadata": {
    "collapsed": true
   },
   "outputs": [
    {
     "name": "stdout",
     "output_type": "stream",
     "text": [
      "Train on 60000 samples, validate on 15000 samples\n",
      "Epoch 1/10\n",
      "60000/60000 [==============================] - 176s 3ms/step - loss: 0.4057 - acc: 0.8234 - val_loss: 0.3069 - val_acc: 0.8730\n",
      "Epoch 2/10\n",
      "60000/60000 [==============================] - 172s 3ms/step - loss: 0.3034 - acc: 0.8780 - val_loss: 0.2875 - val_acc: 0.8842\n",
      "Epoch 3/10\n",
      "60000/60000 [==============================] - 173s 3ms/step - loss: 0.2740 - acc: 0.8910 - val_loss: 0.2831 - val_acc: 0.8867\n",
      "Epoch 4/10\n",
      "60000/60000 [==============================] - 170s 3ms/step - loss: 0.2549 - acc: 0.8994 - val_loss: 0.2820 - val_acc: 0.8874\n",
      "Epoch 5/10\n",
      "60000/60000 [==============================] - 167s 3ms/step - loss: 0.2439 - acc: 0.9032 - val_loss: 0.2809 - val_acc: 0.8848\n",
      "Epoch 6/10\n",
      "60000/60000 [==============================] - 167s 3ms/step - loss: 0.2355 - acc: 0.9068 - val_loss: 0.2842 - val_acc: 0.8867\n",
      "Epoch 7/10\n",
      "60000/60000 [==============================] - 166s 3ms/step - loss: 0.2255 - acc: 0.9114 - val_loss: 0.3091 - val_acc: 0.8817\n",
      "Epoch 8/10\n",
      "60000/60000 [==============================] - 167s 3ms/step - loss: 0.2172 - acc: 0.9154 - val_loss: 0.2932 - val_acc: 0.8825\n",
      "Epoch 9/10\n",
      "60000/60000 [==============================] - 167s 3ms/step - loss: 0.2103 - acc: 0.9173 - val_loss: 0.2822 - val_acc: 0.8861\n",
      "Epoch 10/10\n",
      "60000/60000 [==============================] - 166s 3ms/step - loss: 0.2022 - acc: 0.9217 - val_loss: 0.2846 - val_acc: 0.8853\n"
     ]
    }
   ],
   "source": [
    "history = model.fit(x_train, y_train,\n",
    "                    epochs=10,\n",
    "                    batch_size=128,\n",
    "                    validation_split=0.2)"
   ]
  },
  {
   "cell_type": "code",
   "execution_count": null,
   "metadata": {
    "collapsed": true
   },
   "outputs": [],
   "source": [
    "acc = history.history['acc']\n",
    "val_acc = history.history['val_acc']\n",
    "loss = history.history['loss']\n",
    "val_loss = history.history['val_loss']\n",
    "\n",
    "epochs = range(len(acc))\n",
    "\n",
    "plt.plot(epochs, acc, 'bo', label='Training acc')\n",
    "plt.plot(epochs, val_acc, 'b', label='Validation acc')\n",
    "plt.title('Training and validation accuracy')\n",
    "plt.legend()\n",
    "\n",
    "plt.figure()\n",
    "\n",
    "plt.plot(epochs, loss, 'bo', label='Training loss')\n",
    "plt.plot(epochs, val_loss, 'b', label='Validation loss')\n",
    "plt.title('Training and validation loss')\n",
    "plt.legend()\n",
    "\n",
    "plt.show()"
   ]
  },
  {
   "cell_type": "code",
   "execution_count": 26,
   "metadata": {},
   "outputs": [
    {
     "name": "stdout",
     "output_type": "stream",
     "text": [
      "25000/25000 [==============================] - 61s 2ms/step\n"
     ]
    },
    {
     "data": {
      "text/plain": [
       "[0.28326214562416074, 0.88428]"
      ]
     },
     "execution_count": 26,
     "metadata": {},
     "output_type": "execute_result"
    }
   ],
   "source": [
    "model.evaluate(x_test, y_test)"
   ]
  },
  {
   "cell_type": "markdown",
   "metadata": {},
   "source": [
    " ### Model 2 -  Using combination of CNN and RNN"
   ]
  },
  {
   "cell_type": "code",
   "execution_count": 8,
   "metadata": {},
   "outputs": [
    {
     "name": "stdout",
     "output_type": "stream",
     "text": [
      "WARNING:tensorflow:From /home/ubuntu/anaconda3/envs/tensorflow_p36/lib/python3.6/site-packages/tensorflow/python/util/deprecation.py:497: calling conv1d (from tensorflow.python.ops.nn_ops) with data_format=NHWC is deprecated and will be removed in a future version.\n",
      "Instructions for updating:\n",
      "`NHWC` for data_format is deprecated, use `NWC` instead\n",
      "_________________________________________________________________\n",
      "Layer (type)                 Output Shape              Param #   \n",
      "=================================================================\n",
      "embedding_1 (Embedding)      (None, 200, 128)          1280000   \n",
      "_________________________________________________________________\n",
      "dropout_1 (Dropout)          (None, 200, 128)          0         \n",
      "_________________________________________________________________\n",
      "conv1d_1 (Conv1D)            (None, 196, 64)           41024     \n",
      "_________________________________________________________________\n",
      "max_pooling1d_1 (MaxPooling1 (None, 65, 64)            0         \n",
      "_________________________________________________________________\n",
      "lstm_1 (LSTM)                (None, 128)               98816     \n",
      "_________________________________________________________________\n",
      "dense_1 (Dense)              (None, 1)                 129       \n",
      "=================================================================\n",
      "Total params: 1,419,969\n",
      "Trainable params: 1,419,969\n",
      "Non-trainable params: 0\n",
      "_________________________________________________________________\n"
     ]
    }
   ],
   "source": [
    "model_conv = Sequential()\n",
    "model_conv.add(Embedding(max_words, 128, input_length=maxlen))\n",
    "model_conv.add(Dropout(0.2))\n",
    "model_conv.add(Conv1D(64, 5, activation='relu'))\n",
    "model_conv.add(MaxPooling1D(pool_size=3))\n",
    "model_conv.add(LSTM(128))\n",
    "model_conv.add(Dense(1, activation='sigmoid'))\n",
    "model_conv.compile(loss='binary_crossentropy', optimizer='adam', metrics=['accuracy'])\n",
    "model_conv.summary()"
   ]
  },
  {
   "cell_type": "code",
   "execution_count": 9,
   "metadata": {},
   "outputs": [
    {
     "name": "stdout",
     "output_type": "stream",
     "text": [
      "Train on 60000 samples, validate on 15000 samples\n",
      "Epoch 1/5\n",
      "60000/60000 [==============================] - 56s 938us/step - loss: 0.3475 - acc: 0.8459 - val_loss: 0.2776 - val_acc: 0.8859\n",
      "Epoch 2/5\n",
      "60000/60000 [==============================] - 51s 847us/step - loss: 0.2370 - acc: 0.9069 - val_loss: 0.2784 - val_acc: 0.8835\n",
      "Epoch 3/5\n",
      "60000/60000 [==============================] - 51s 846us/step - loss: 0.1875 - acc: 0.9287 - val_loss: 0.2961 - val_acc: 0.8841\n",
      "Epoch 4/5\n",
      "60000/60000 [==============================] - 51s 847us/step - loss: 0.1386 - acc: 0.9481 - val_loss: 0.3369 - val_acc: 0.8811\n",
      "Epoch 5/5\n",
      "60000/60000 [==============================] - 51s 853us/step - loss: 0.0941 - acc: 0.9666 - val_loss: 0.4072 - val_acc: 0.8749\n"
     ]
    }
   ],
   "source": [
    "history = model_conv.fit(x_train, y_train,\n",
    "                    epochs=5,\n",
    "                    batch_size=128,\n",
    "                    validation_split=0.2)"
   ]
  },
  {
   "cell_type": "code",
   "execution_count": 10,
   "metadata": {},
   "outputs": [
    {
     "data": {
      "image/png": "[encoded data removed]",
      "text/plain": [
       "<Figure size 432x288 with 1 Axes>"
      ]
     },
     "metadata": {},
     "output_type": "display_data"
    },
    {
     "data": {
      "image/png": "[encoded data removed]",
      "text/plain": [
       "<Figure size 432x288 with 1 Axes>"
      ]
     },
     "metadata": {},
     "output_type": "display_data"
    }
   ],
   "source": [
    "acc = history.history['acc']\n",
    "val_acc = history.history['val_acc']\n",
    "loss = history.history['loss']\n",
    "val_loss = history.history['val_loss']\n",
    "\n",
    "epochs = range(len(acc))\n",
    "\n",
    "plt.plot(epochs, acc, 'bo', label='Training acc')\n",
    "plt.plot(epochs, val_acc, 'b', label='Validation acc')\n",
    "plt.title('Training and validation accuracy')\n",
    "plt.legend()\n",
    "\n",
    "plt.figure()\n",
    "\n",
    "plt.plot(epochs, loss, 'bo', label='Training loss')\n",
    "plt.plot(epochs, val_loss, 'b', label='Validation loss')\n",
    "plt.title('Training and validation loss')\n",
    "plt.legend()\n",
    "\n",
    "plt.show()"
   ]
  },
  {
   "cell_type": "code",
   "execution_count": 11,
   "metadata": {},
   "outputs": [
    {
     "name": "stdout",
     "output_type": "stream",
     "text": [
      "25000/25000 [==============================] - 20s 788us/step\n"
     ]
    },
    {
     "data": {
      "text/plain": [
       "[0.4162595258152485, 0.87576]"
      ]
     },
     "execution_count": 11,
     "metadata": {},
     "output_type": "execute_result"
    }
   ],
   "source": [
    "model_conv.evaluate(x_test, y_test)"
   ]
  },
  {
   "cell_type": "markdown",
   "metadata": {},
   "source": [
    "## comment\n",
    "For the first two epochs, the training accuracy and validation accuract are simiar, which means that the patterns or ruls network learns on the training generalize well to the unseen validation set. However, after two epochs, this network has overfitted the training data."
   ]
  },
  {
   "cell_type": "markdown",
   "metadata": {},
   "source": [
    "#  Using bidirectional RNNs"
   ]
  },
  {
   "cell_type": "code",
   "execution_count": 14,
   "metadata": {
    "collapsed": true
   },
   "outputs": [],
   "source": [
    "from keras import backend as K\n",
    "K.clear_session()"
   ]
  },
  {
   "cell_type": "code",
   "execution_count": 15,
   "metadata": {},
   "outputs": [
    {
     "name": "stdout",
     "output_type": "stream",
     "text": [
      "_________________________________________________________________\n",
      "Layer (type)                 Output Shape              Param #   \n",
      "=================================================================\n",
      "embedding_1 (Embedding)      (None, 200, 128)          1280000   \n",
      "_________________________________________________________________\n",
      "bidirectional_1 (Bidirection (None, 256)               263168    \n",
      "_________________________________________________________________\n",
      "dense_1 (Dense)              (None, 1)                 257       \n",
      "=================================================================\n",
      "Total params: 1,543,425\n",
      "Trainable params: 1,543,425\n",
      "Non-trainable params: 0\n",
      "_________________________________________________________________\n"
     ]
    }
   ],
   "source": [
    "model = Sequential()\n",
    "model.add(Embedding(max_words, 128, input_length=maxlen))\n",
    "model.add(Bidirectional(LSTM(128)))\n",
    "model.add(Dense(1, activation='sigmoid'))\n",
    "model.compile(optimizer='rmsprop',loss='binary_crossentropy', metrics=['accuracy'])\n",
    "model.summary()"
   ]
  },
  {
   "cell_type": "code",
   "execution_count": 16,
   "metadata": {},
   "outputs": [
    {
     "name": "stdout",
     "output_type": "stream",
     "text": [
      "Train on 60000 samples, validate on 15000 samples\n",
      "Epoch 1/10\n",
      "60000/60000 [==============================] - 266s 4ms/step - loss: 0.3775 - acc: 0.8362 - val_loss: 0.3465 - val_acc: 0.8701\n",
      "Epoch 2/10\n",
      "60000/60000 [==============================] - 266s 4ms/step - loss: 0.2761 - acc: 0.8894 - val_loss: 0.3121 - val_acc: 0.8827\n",
      "Epoch 3/10\n",
      "60000/60000 [==============================] - 267s 4ms/step - loss: 0.2479 - acc: 0.9013 - val_loss: 0.3889 - val_acc: 0.8673\n",
      "Epoch 4/10\n",
      "60000/60000 [==============================] - 263s 4ms/step - loss: 0.2241 - acc: 0.9105 - val_loss: 0.2774 - val_acc: 0.8902\n",
      "Epoch 5/10\n",
      "60000/60000 [==============================] - 259s 4ms/step - loss: 0.2040 - acc: 0.9192 - val_loss: 0.2714 - val_acc: 0.8875\n",
      "Epoch 6/10\n",
      "60000/60000 [==============================] - 258s 4ms/step - loss: 0.1873 - acc: 0.9270 - val_loss: 0.2986 - val_acc: 0.8873\n",
      "Epoch 7/10\n",
      "60000/60000 [==============================] - 265s 4ms/step - loss: 0.1702 - acc: 0.9338 - val_loss: 0.2940 - val_acc: 0.8850\n",
      "Epoch 8/10\n",
      "60000/60000 [==============================] - 258s 4ms/step - loss: 0.1551 - acc: 0.9400 - val_loss: 0.2889 - val_acc: 0.8856\n",
      "Epoch 9/10\n",
      "60000/60000 [==============================] - 260s 4ms/step - loss: 0.1405 - acc: 0.9459 - val_loss: 0.2967 - val_acc: 0.8822\n",
      "Epoch 10/10\n",
      "60000/60000 [==============================] - 260s 4ms/step - loss: 0.1236 - acc: 0.9540 - val_loss: 0.3375 - val_acc: 0.8811\n"
     ]
    }
   ],
   "source": [
    "history = model.fit(x_train, y_train, epochs=10, batch_size=128, validation_split=0.2)"
   ]
  },
  {
   "cell_type": "code",
   "execution_count": 17,
   "metadata": {},
   "outputs": [
    {
     "data": {
      "image/png": "[encoded data removed]",
      "text/plain": [
       "<Figure size 432x288 with 1 Axes>"
      ]
     },
     "metadata": {},
     "output_type": "display_data"
    },
    {
     "data": {
      "image/png": "[encoded data removed]",
      "text/plain": [
       "<Figure size 432x288 with 1 Axes>"
      ]
     },
     "metadata": {},
     "output_type": "display_data"
    }
   ],
   "source": [
    "import matplotlib.pyplot as plt\n",
    "%matplotlib inline \n",
    "acc = history.history['acc']\n",
    "val_acc = history.history['val_acc']\n",
    "loss = history.history['loss']\n",
    "val_loss = history.history['val_loss']\n",
    "\n",
    "epochs = range(len(acc))\n",
    "\n",
    "plt.plot(epochs, acc, 'bo', label='Training acc')\n",
    "plt.plot(epochs, val_acc, 'b', label='Validation acc')\n",
    "plt.title('Training and validation accuracy')\n",
    "plt.legend()\n",
    "\n",
    "plt.figure()\n",
    "\n",
    "plt.plot(epochs, loss, 'bo', label='Training loss')\n",
    "plt.plot(epochs, val_loss, 'b', label='Validation loss')\n",
    "plt.title('Training and validation loss')\n",
    "plt.legend()\n",
    "\n",
    "plt.show()"
   ]
  },
  {
   "cell_type": "code",
   "execution_count": 11,
   "metadata": {
    "scrolled": true
   },
   "outputs": [
    {
     "name": "stdout",
     "output_type": "stream",
     "text": [
      "25000/25000 [==============================] - 111s 4ms/step\n"
     ]
    },
    {
     "data": {
      "text/plain": [
       "[0.3383632601284981, 0.8822]"
      ]
     },
     "execution_count": 11,
     "metadata": {},
     "output_type": "execute_result"
    }
   ],
   "source": [
    "model.evaluate(x_test, y_test)"
   ]
  }
 ],
 "metadata": {
  "kernelspec": {
   "display_name": "Python 3",
   "language": "python",
   "name": "python3"
  },
  "language_info": {
   "codemirror_mode": {
    "name": "ipython",
    "version": 3
   },
   "file_extension": ".py",
   "mimetype": "text/x-python",
   "name": "python",
   "nbconvert_exporter": "python",
   "pygments_lexer": "ipython3",
   "version": "3.6.1"
  }
 },
 "nbformat": 4,
 "nbformat_minor": 2
}
